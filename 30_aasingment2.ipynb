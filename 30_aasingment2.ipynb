{
  "nbformat": 4,
  "nbformat_minor": 0,
  "metadata": {
    "colab": {
      "provenance": []
    },
    "kernelspec": {
      "name": "python3",
      "display_name": "Python 3"
    },
    "language_info": {
      "name": "python"
    }
  },
  "cells": [
    {
      "cell_type": "code",
      "execution_count": null,
      "metadata": {
        "id": "JldI3z_4TEOM"
      },
      "outputs": [],
      "source": [
        "# Assignment:2"
      ]
    },
    {
      "cell_type": "code",
      "source": [
        "#Q:1 write a program to accept percentage from the user and display the grade according to the following criteria:"
      ],
      "metadata": {
        "id": "wP_ut8SWTOCI"
      },
      "execution_count": null,
      "outputs": []
    },
    {
      "cell_type": "code",
      "source": [
        "marks = int(input(\"please enter the marks : \"))\n",
        "if marks > 90:\n",
        "        print(\"Grade A \")\n",
        "elif marks >80 and marks <=90:\n",
        "        print(\"Grade B \")\n",
        "elif marks >= 60 and marks <=80:\n",
        "        print(\"Grade C \")\n",
        "else:\n",
        "        print(\" grade D \")"
      ],
      "metadata": {
        "id": "JCMaFoi2TOEd",
        "colab": {
          "base_uri": "https://localhost:8080/"
        },
        "outputId": "1d68a030-bbc7-43fc-a9fb-177c23143c34"
      },
      "execution_count": null,
      "outputs": [
        {
          "output_type": "stream",
          "name": "stdout",
          "text": [
            "please enter the marks : 93\n",
            "Grade A \n"
          ]
        }
      ]
    },
    {
      "cell_type": "code",
      "source": [
        "#Q:2 write a program to accept the cost price of a bike and display the raod tax to be paid according to the  following criteria:\n",
        "\n"
      ],
      "metadata": {
        "id": "e3dgoJzPTOG9"
      },
      "execution_count": null,
      "outputs": []
    },
    {
      "cell_type": "code",
      "source": [
        "tax = int(input(\"please enter the cost of the bike price: \"))\n",
        "if tax > 100000:\n",
        "    print(\"Road tax  will be paid: \", tax*15/100)\n",
        "elif tax >=50000 or tax <=100000:\n",
        "    print(\"Road tax  will be paid: \",tax*10/100)\n",
        "elif tax <= 50000:\n",
        "    print(\"Road tax  will be paid: \",tax*5/100)\n",
        "else:\n",
        "  print('No tax paid')"
      ],
      "metadata": {
        "id": "cEWs0qWqTOI-",
        "colab": {
          "base_uri": "https://localhost:8080/"
        },
        "outputId": "c8d3d3b5-8c70-4779-82fc-334444fdf1c3"
      },
      "execution_count": null,
      "outputs": [
        {
          "output_type": "stream",
          "name": "stdout",
          "text": [
            "please enter the cost of the bike price: -1\n",
            "Road tax  will be paid:  -0.1\n"
          ]
        }
      ]
    },
    {
      "cell_type": "code",
      "source": [
        "#Q:3Accept any city from the user and display monuments of that city. \n"
      ],
      "metadata": {
        "id": "w-vtNZWATOLi"
      },
      "execution_count": null,
      "outputs": []
    },
    {
      "cell_type": "code",
      "source": [
        "city = input(\"please enter the city name : \")\n",
        "if city == \"delhi\":\n",
        "    print(\"read fort\")\n",
        "elif city == \"agra\":\n",
        "    print(\"taj mahal\")\n",
        "elif city == \"jaipur\":\n",
        "    print(\"jai mahal\")\n",
        "else:\n",
        "    print(\"please enter the valid city name:\")\n",
        "    "
      ],
      "metadata": {
        "colab": {
          "base_uri": "https://localhost:8080/"
        },
        "id": "8olKdn9rTONm",
        "outputId": "decd3188-5d3e-4fa0-c8fd-f142acbf5f37"
      },
      "execution_count": null,
      "outputs": [
        {
          "output_type": "stream",
          "name": "stdout",
          "text": [
            "please enter the city name : mubai\n",
            "please enter the valid city name:\n"
          ]
        }
      ]
    },
    {
      "cell_type": "code",
      "source": [
        "#Q:4. Check how many times a given number can be divided by 3 before it is less than or equal to 10. "
      ],
      "metadata": {
        "id": "yA1F3x5jn0_v"
      },
      "execution_count": null,
      "outputs": []
    },
    {
      "cell_type": "code",
      "source": [
        "def divisible_by_3(num):\n",
        "    count = 0\n",
        "    while num > 10:\n",
        "        num = num / 3\n",
        "        count += 1\n",
        "    return count\n",
        "\n",
        "num = int(input(\"Enter a number: \"))\n",
        "result = divisible_by_3(num)\n",
        "print(f\"The number can be divided by 3 {result} times before it is less than or equal to 10.\")\n"
      ],
      "metadata": {
        "colab": {
          "base_uri": "https://localhost:8080/"
        },
        "outputId": "9d344983-e68f-4cd5-d7b9-f592294fead2",
        "id": "hQUYMAp9JezP"
      },
      "execution_count": null,
      "outputs": [
        {
          "output_type": "stream",
          "name": "stdout",
          "text": [
            "Enter a number: 78\n",
            "The number can be divided by 3 2 times before it is less than or equal to 10.\n"
          ]
        }
      ]
    },
    {
      "cell_type": "markdown",
      "source": [],
      "metadata": {
        "id": "n9N5b2L1zkaX"
      }
    },
    {
      "cell_type": "code",
      "source": [
        "# Q:5 Why and When to Use while Loop in Python give a detailed description with example "
      ],
      "metadata": {
        "id": "97eKUF-WTOSB"
      },
      "execution_count": null,
      "outputs": []
    },
    {
      "cell_type": "code",
      "source": [
        "## A while loop in Python is used to repeat a block of code as long as the specified condition is true.\n",
        "## while condition:\n",
        "# code to be executed\n",
        "#Here, condition is an expression that evaluates to either True or False. The code within the loop will be executed as long as condition is True. Once condition becomes False, the loop stops and the program continues with the code after the loop.\n",
        "#For example, consider the following code that uses a while loop to print the numbers from 1 to 10:\n",
        "\n",
        "i = 1\n",
        "while i <=10:\n",
        "  print(i)\n",
        "  i = i + 1\n",
        "#10. this  while loop  will  run until the value of i is grater then 10 On each iteration of the loop, the value of i is printed, and then it is incremented by 1 using the += operator. The output of this code will be:"
      ],
      "metadata": {
        "colab": {
          "base_uri": "https://localhost:8080/"
        },
        "id": "F_rY7ZB0TOUp",
        "outputId": "e35ddcdd-3274-453d-b873-52a4b9af902a"
      },
      "execution_count": null,
      "outputs": [
        {
          "output_type": "stream",
          "name": "stdout",
          "text": [
            "1\n",
            "2\n",
            "3\n",
            "4\n",
            "5\n",
            "6\n",
            "7\n",
            "8\n",
            "9\n"
          ]
        }
      ]
    },
    {
      "cell_type": "code",
      "source": [
        "#Q:6 Use nested while loop to print 3 different pattern."
      ],
      "metadata": {
        "id": "7UHIkK6PTOWf"
      },
      "execution_count": null,
      "outputs": []
    },
    {
      "cell_type": "code",
      "source": [
        "# Pattern 1\n",
        "i = 1\n",
        "while i <= 5:\n",
        "    j = 1\n",
        "    while j <= i:\n",
        "        print(\"*\", end=\"\")\n",
        "        j += 1\n",
        "    print(\"\")\n",
        "    i += 1\n",
        "\n",
        "# Pattern 2\n",
        "i = 5\n",
        "while i >= 1:\n",
        "    j = 1\n",
        "    while j <= i:\n",
        "        print(\"*\", end=\"\")\n",
        "        j += 1\n",
        "    print(\"\")\n",
        "    i -= 1\n",
        "\n",
        "# Pattern 3\n",
        "i = 1\n",
        "while i <= 5:\n",
        "    j = 5\n",
        "    while j >= i:\n",
        "        print(\" \", end=\"\")\n",
        "        j -= 1\n",
        "    k = 1\n",
        "    while k <= i:\n",
        "        print(\"*\", end=\"\")\n",
        "        k += 1\n",
        "    print(\"\")\n",
        "    i += 1\n"
      ],
      "metadata": {
        "colab": {
          "base_uri": "https://localhost:8080/"
        },
        "id": "qe6-bgTsLL5E",
        "outputId": "657458ea-e839-4a8a-d899-21c46d1afd30"
      },
      "execution_count": 10,
      "outputs": [
        {
          "output_type": "stream",
          "name": "stdout",
          "text": [
            "*\n",
            "**\n",
            "***\n",
            "****\n",
            "*****\n",
            "*****\n",
            "****\n",
            "***\n",
            "**\n",
            "*\n",
            "     *\n",
            "    **\n",
            "   ***\n",
            "  ****\n",
            " *****\n"
          ]
        }
      ]
    },
    {
      "cell_type": "code",
      "source": [
        "#Q:7 Reverse a while loop to display numbers from 10 to 1.\n"
      ],
      "metadata": {
        "id": "MdQk1R34pdjT"
      },
      "execution_count": null,
      "outputs": []
    },
    {
      "cell_type": "code",
      "source": [
        "x = 10\n",
        "while x > 0:\n",
        "  print(x)\n",
        "  x = x -1\n"
      ],
      "metadata": {
        "colab": {
          "base_uri": "https://localhost:8080/"
        },
        "id": "XcpiJWYypdlm",
        "outputId": "f8fecee3-8f2c-4a68-db26-cfef79605e5f"
      },
      "execution_count": null,
      "outputs": [
        {
          "output_type": "stream",
          "name": "stdout",
          "text": [
            "10\n",
            "9\n",
            "8\n",
            "7\n",
            "6\n",
            "5\n",
            "4\n",
            "3\n",
            "2\n",
            "1\n"
          ]
        }
      ]
    },
    {
      "cell_type": "code",
      "source": [
        "#Q:8 Reverse a while loop to display numbers from 10 to 1.\n"
      ],
      "metadata": {
        "id": "WuCgnkjAu_Vl"
      },
      "execution_count": null,
      "outputs": []
    },
    {
      "cell_type": "code",
      "source": [
        "d = 10\n",
        "while d > 0:\n",
        "  print(d)\n",
        "  d = d -1\n",
        "  "
      ],
      "metadata": {
        "colab": {
          "base_uri": "https://localhost:8080/"
        },
        "id": "l4YaKNOgjB_e",
        "outputId": "61812d3d-c97c-477c-be55-09d8f06a71ef"
      },
      "execution_count": null,
      "outputs": [
        {
          "output_type": "stream",
          "name": "stdout",
          "text": [
            "10\n",
            "9\n",
            "8\n",
            "7\n",
            "6\n",
            "5\n",
            "4\n",
            "3\n",
            "2\n",
            "1\n"
          ]
        }
      ]
    },
    {
      "cell_type": "code",
      "source": [
        "i = 1\n"
      ],
      "metadata": {
        "id": "XK1HWGQWu_b6"
      },
      "execution_count": null,
      "outputs": []
    },
    {
      "cell_type": "code",
      "source": [],
      "metadata": {
        "id": "fhmMXrQNu_d1"
      },
      "execution_count": null,
      "outputs": []
    },
    {
      "cell_type": "code",
      "source": [],
      "metadata": {
        "id": "ISe2mg-Pu_gK"
      },
      "execution_count": null,
      "outputs": []
    },
    {
      "cell_type": "code",
      "source": [],
      "metadata": {
        "id": "_k8zsbrgu_jT"
      },
      "execution_count": null,
      "outputs": []
    }
  ]
}