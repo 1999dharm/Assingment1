{
 "cells": [
  {
   "cell_type": "markdown",
   "id": "0618803c-e3aa-4001-8407-e64b53c07f4b",
   "metadata": {},
   "source": [
    "Q1.what is an exception in python ? write the different between exceptions and syntax errors\n",
    "\n",
    "Ans\n",
    "   In Python, an exception is an event that occurs during the execution of a program that disrupts the normal flow of the program's instructions. When an exception is raised, the normal flow of the program is interrupted, and the program looks for a way to handle the exception.\n",
    "\n",
    "An syntax error, on the other hand, is a type of error that occurs when the Python interpreter encounters incorrect code syntax. Syntax errors are usually raised before the program is executed and are caused by mistakes in the code, such as incorrect use of quotes, parenthesis, or indentation.\n",
    "\n",
    "The difference between exceptions and syntax errors is that exceptions occur during the execution of a program, while syntax errors occur before the program is executed. Exceptions are raised when unexpected conditions occur in the program, such as dividing by zero, accessing an index that does not exist in a list, or trying to open a file that does not exist. Syntax errors, on the other hand, are a result of incorrect code that does not conform to the syntax rules of the Python language."
   ]
  },
  {
   "cell_type": "markdown",
   "id": "1b37810e-3b11-447b-8f57-fc1eb85a1dfb",
   "metadata": {},
   "source": [
    "2. what happen when an eception is not handle? explain with an example.\n",
    "\n",
    "Ans \n",
    "   When an exception is not handled, the program terminates abruptly and generates an error message. The error message provides information about the type of exception that was raised and its location in the code. This makes it difficult to determine the cause of the exception and fix the problem.\n",
    "\n",
    "For example, consider the following code that tries to divide a number by zero:"
   ]
  },
  {
   "cell_type": "code",
   "execution_count": null,
   "id": "f2ba6239-09d6-453b-8483-d4256761a2dd",
   "metadata": {},
   "outputs": [],
   "source": [
    "a = 10 \n",
    "b = 0\n",
    "c = a / b\n",
    "print(c)"
   ]
  },
  {
   "cell_type": "markdown",
   "id": "1112cba5-4beb-4e74-bbe8-0c73b225119b",
   "metadata": {},
   "source": [
    "If this code is executed, it will raise a ZeroDivisionError exception, because dividing by zero is undefined in mathematics. If this exception is not handled, the program will terminate and produce the following error message:"
   ]
  },
  {
   "cell_type": "markdown",
   "id": "42c8e8bc-7f63-40f1-b762-0f951fe99caf",
   "metadata": {},
   "source": [
    "Q3. which python statement are used to catch and handle exception?explain with an example\n",
    "\n",
    "Ans \n",
    "   The try and except statements are used to catch and handle exceptions in Python. The try statement defines a block of code that is to be executed, and the except statement defines a block of code that will be executed if an exception is raised in the try block.\n",
    "\n",
    "Here's an example that demonstrates how to catch and handle a ZeroDivisionError exception:"
   ]
  },
  {
   "cell_type": "code",
   "execution_count": 16,
   "id": "4e6bedcb-b70b-45bd-95ca-05c02cf39824",
   "metadata": {},
   "outputs": [
    {
     "name": "stdout",
     "output_type": "stream",
     "text": [
      "cannot divide by zero division by zero\n"
     ]
    }
   ],
   "source": [
    "try :\n",
    "    a = 10 \n",
    "    b = 0\n",
    "    c = a / b\n",
    "    print(c)\n",
    "\n",
    "except Exception as e:\n",
    "    print(\"cannot divide by zero\",e)"
   ]
  },
  {
   "cell_type": "markdown",
   "id": "794b36b3-c2ea-46e2-ac2c-bf589e62ad57",
   "metadata": {},
   "source": [
    "The try and except statements are used to catch and handle exceptions in Python. The try statement defines a block of code that is to be executed, and the except statement defines a block of code that will be executed if an exception is raised in the try block.\n",
    "\n",
    "Here's an example that demonstrates how to catch and handle a ZeroDivisionError exception:"
   ]
  },
  {
   "cell_type": "markdown",
   "id": "d0f1f935-5fa7-4688-a3c4-227317da41ca",
   "metadata": {},
   "source": [
    "Q4. Explain with an example:\n",
    "a try and else\n",
    "b finllay\n",
    "c raise\n",
    "\n",
    "Ans \n",
    "    The try and else statements in Python can be used to catch exceptions and perform actions when no exceptions are raised. The else block is executed only if there were no exceptions raised in the try block."
   ]
  },
  {
   "cell_type": "code",
   "execution_count": 22,
   "id": "83438011-9147-4e3e-8a23-1a2523d4d134",
   "metadata": {},
   "outputs": [
    {
     "name": "stdout",
     "output_type": "stream",
     "text": [
      "cannot divide by zero division by zero\n"
     ]
    }
   ],
   "source": [
    "try :\n",
    "    a = 10 \n",
    "    n = 0\n",
    "    c = a / b\n",
    "except Exception as e :\n",
    "    print(\"cannot divide by zero\",e)\n",
    "else:\n",
    "    print(\"result: \",c)"
   ]
  },
  {
   "cell_type": "markdown",
   "id": "189cbd89-f05d-47b2-927c-3b2a5b769126",
   "metadata": {},
   "source": [
    "In this example, the code inside the try block attempts to divide a by b. Since b is not zero, no ZeroDivisionError exception is raised, and the code in the else block is executed. The program prints the message \"Result: 5.0\" to the screen, indicating the result of the division."
   ]
  },
  {
   "cell_type": "markdown",
   "id": "446733ed-8d9d-4bbb-b3ff-347d79e7fced",
   "metadata": {},
   "source": [
    "b.The finally statement in Python can be used to specify a block of code that will always be executed, regardless of whether an exception was raised or not. This is useful for cleanup activities that should be performed regardless of whether an exception was raised, such as closing a file or releasing a resource."
   ]
  },
  {
   "cell_type": "code",
   "execution_count": 23,
   "id": "9661c62d-c23f-4f5a-8880-97a22faceecf",
   "metadata": {},
   "outputs": [
    {
     "name": "stdout",
     "output_type": "stream",
     "text": [
      "cleanup activities\n"
     ]
    }
   ],
   "source": [
    "try :\n",
    "    a = 10\n",
    "    b = 1\n",
    "    c = a / b\n",
    "except Exception as e:\n",
    "    print(\"cannot divide by zero\")\n",
    "    \n",
    "finally:\n",
    "    print(\"cleanup activities\")"
   ]
  },
  {
   "cell_type": "markdown",
   "id": "b382ba09-5342-40ba-bb74-6a7cb1d59afe",
   "metadata": {},
   "source": [
    "n this example, the code inside the try block attempts to divide a by b, which will raise a ZeroDivisionError exception. The except statement catches this exception and prints the message \"Cannot divide by zero.\" to the screen. The code in the finally block is then executed, regardless of whether an exception was raised or not, and the program prints the message \"Cleanup activities.\" to the screen."
   ]
  },
  {
   "cell_type": "markdown",
   "id": "fc0eea94-c9c4-4da2-9dfc-43eb17c4070c",
   "metadata": {},
   "source": [
    "The raise statement in Python can be used to raise an exception explicitly. This is useful for creating custom exceptions and for testing exception handling code."
   ]
  },
  {
   "cell_type": "code",
   "execution_count": 29,
   "id": "af900e5b-c1d6-415f-8281-0f090abaf89c",
   "metadata": {},
   "outputs": [
    {
     "name": "stdout",
     "output_type": "stream",
     "text": [
      "cannot divide by zero\n"
     ]
    }
   ],
   "source": [
    "def calculate(a,b):\n",
    "    if b == 0:\n",
    "        raise ValueError(\"cannot divide by zero\")\n",
    "        return a / b\n",
    "\n",
    "try:\n",
    "    result = calculate(10,0)\n",
    "    print(result)\n",
    "    \n",
    "except Exception as e:\n",
    "    print(e)"
   ]
  },
  {
   "cell_type": "markdown",
   "id": "2552033e-1a8e-47cb-b911-cee8db43be93",
   "metadata": {},
   "source": [
    "In this example, the calculate function checks if b is equal to zero, and raises a ValueError exception with the message \"Cannot divide by zero.\" if it is. The code in the try block then calls the calculate function and attempts to print the result. Since b is zero, the ValueError exception is raised, and the except statement catches the exception and prints the error message \"Cannot divide by zero.\" to the screen."
   ]
  },
  {
   "cell_type": "markdown",
   "id": "a44f881c-224b-4262-b85e-d26fb0ef61b6",
   "metadata": {},
   "source": [
    "Q5.what are coustom exception in python?why do we need custom exception? explain.\n",
    "\n",
    "Ans\n",
    "   Custom exceptions in Python are user-defined exceptions that can be raised to indicate a specific error or condition in the program. They are created by subclassing the built-in Exception class or any of its subclasses.\n",
    "\n",
    "The main reason for creating custom exceptions is to provide a more meaningful and user-friendly error message that is specific to the program. Custom exceptions can be raised in response to specific conditions in the program, and they can be caught and handled just like any other exception. By using custom exceptions, you can create a more informative and organized error handling mechanism for your program.\n",
    "\n",
    "For example, consider a program that performs operations on a set of data. You may want to raise a custom exception if the data is not in a valid format, rather than using a generic ValueError exception. In this case, you could create a custom exception class called InvalidDataFormatException, and raise an instance of this exception whenever the data is not in the expected format."
   ]
  },
  {
   "cell_type": "code",
   "execution_count": 30,
   "id": "3ee0edc6-43bd-4dc3-805b-1a8a6595632a",
   "metadata": {},
   "outputs": [
    {
     "name": "stdout",
     "output_type": "stream",
     "text": [
      "Data must be in a list format.\n"
     ]
    }
   ],
   "source": [
    "class InvalidDataFormatException(Exception):\n",
    "    pass\n",
    "\n",
    "def process_data(data):\n",
    "    if not isinstance(data, list):\n",
    "        raise InvalidDataFormatException(\"Data must be in a list format.\")\n",
    "    #\n",
    "\n",
    "try:\n",
    "    process_data(\"data\")\n",
    "except InvalidDataFormatException as e:\n",
    "    print(e)\n"
   ]
  },
  {
   "cell_type": "markdown",
   "id": "c776c2b0-fb1f-49de-b01e-f1721fa4800b",
   "metadata": {},
   "source": [
    "In this example, the process_data function raises an InvalidDataFormatException if the data is not in a list format. The code in the try block then calls the process_data function, and the except block catches the custom exception and prints the error message \"Data must be in a list format.\" to the screen."
   ]
  },
  {
   "cell_type": "markdown",
   "id": "45bc7ee8-c9c0-46d3-ab1d-19aa6bd2289e",
   "metadata": {},
   "source": [
    "Q6. Create a custom excetion class .use this class to handle an exception"
   ]
  }
 ],
 "metadata": {
  "kernelspec": {
   "display_name": "Python 3 (ipykernel)",
   "language": "python",
   "name": "python3"
  },
  "language_info": {
   "codemirror_mode": {
    "name": "ipython",
    "version": 3
   },
   "file_extension": ".py",
   "mimetype": "text/x-python",
   "name": "python",
   "nbconvert_exporter": "python",
   "pygments_lexer": "ipython3",
   "version": "3.10.6"
  }
 },
 "nbformat": 4,
 "nbformat_minor": 5
}
