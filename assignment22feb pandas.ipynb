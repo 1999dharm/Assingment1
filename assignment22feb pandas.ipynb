{
 "cells": [
  {
   "cell_type": "markdown",
   "id": "950cdb74-1d53-4255-8d0a-8d886d473d1a",
   "metadata": {},
   "source": [
    "Q1. Create a Pandas Series that contains the following data: 4, 8, 15, 16, 23, and 42. Then, print the series."
   ]
  },
  {
   "cell_type": "code",
   "execution_count": 1,
   "id": "10a65c0d-4ccb-4e80-9302-190cb6ea7a3d",
   "metadata": {},
   "outputs": [
    {
     "name": "stdout",
     "output_type": "stream",
     "text": [
      "0     4\n",
      "1     8\n",
      "2    15\n",
      "3    16\n",
      "4    23\n",
      "5    42\n",
      "dtype: int64\n"
     ]
    }
   ],
   "source": [
    "import pandas as pd\n",
    "\n",
    "series = pd.Series([4, 8, 15, 16, 23, 42])\n",
    "\n",
    "print(series)\n"
   ]
  },
  {
   "cell_type": "markdown",
   "id": "0e9bc6fb-a2fa-4e8e-b79c-24360aab2771",
   "metadata": {},
   "source": [
    "Q2. Create a variable of list type containing 10 elements in it, and apply pandas.Series function on the\n",
    "variable print it."
   ]
  },
  {
   "cell_type": "code",
   "execution_count": 2,
   "id": "37c96bf2-315e-4607-9c1d-cc193f1dda90",
   "metadata": {},
   "outputs": [
    {
     "name": "stdout",
     "output_type": "stream",
     "text": [
      "0     1\n",
      "1     2\n",
      "2     3\n",
      "3     4\n",
      "4     5\n",
      "5     6\n",
      "6     7\n",
      "7     8\n",
      "8     9\n",
      "9    10\n",
      "dtype: int64\n"
     ]
    }
   ],
   "source": [
    "import pandas as pd\n",
    "\n",
    "my_list = [1, 2, 3, 4, 5, 6, 7, 8, 9, 10]\n",
    "\n",
    "my_series = pd.Series(my_list)\n",
    "\n",
    "print(my_series)\n"
   ]
  },
  {
   "cell_type": "markdown",
   "id": "486460fe-7a1e-41be-8c77-7f7c733ebbaa",
   "metadata": {},
   "source": [
    "Q3. Create a Pandas DataFrame that contains the following data: \n",
    "\n",
    "Name \n",
    "Alice \n",
    "Bob \n",
    "Claire \n",
    "Then, print the DataFrame. \n",
    "Age 25 \n",
    "30 \n",
    "27 \n",
    "Gender Female Male \n",
    "Female\n",
    "\n",
    "\n",
    "\n",
    "Then, print the DataFrame."
   ]
  },
  {
   "cell_type": "code",
   "execution_count": 3,
   "id": "6f25040b-1842-4304-bc9a-23804f04429e",
   "metadata": {},
   "outputs": [
    {
     "name": "stdout",
     "output_type": "stream",
     "text": [
      "     Name  Age  Gender\n",
      "0   Alice   25  Female\n",
      "1     Bob   30    Male\n",
      "2  Claire   27  Female\n"
     ]
    }
   ],
   "source": [
    "import pandas as pd\n",
    "\n",
    "data = {'Name': ['Alice', 'Bob', 'Claire'],\n",
    "        'Age': [25, 30, 27],\n",
    "        'Gender': ['Female', 'Male', 'Female']}\n",
    "\n",
    "df = pd.DataFrame(data)\n",
    "\n",
    "\n",
    "print(df)\n"
   ]
  },
  {
   "cell_type": "markdown",
   "id": "d69dae82-92f8-43d1-974f-ac7b3339c614",
   "metadata": {},
   "source": [
    "Q4. What is ‘DataFrame’ in pandas and how is it different from pandas.series? Explain with an example.\n",
    "\n",
    "\n",
    "ANS In Pandas, a DataFrame is a 2-dimensional labeled data structure with columns of potentially different data types, similar to a spreadsheet or a SQL table. It is a collection of Pandas Series, where each column in the DataFrame is a Series object.\n",
    "\n",
    "A Pandas Series, on the other hand, is a 1-dimensional labeled array that can hold any data type (integers, floats, strings, etc.) and has an associated index that labels each element in the Series.\n",
    "\n",
    "Here's an example to illustrate the difference between a DataFrame and a Series in Pandas"
   ]
  },
  {
   "cell_type": "code",
   "execution_count": 4,
   "id": "65a1bb6c-b955-40e9-be18-b71cf6f0b271",
   "metadata": {},
   "outputs": [
    {
     "name": "stdout",
     "output_type": "stream",
     "text": [
      "Series:\n",
      "0    1\n",
      "1    2\n",
      "2    3\n",
      "3    4\n",
      "4    5\n",
      "dtype: int64\n",
      "\n",
      "DataFrame:\n",
      "     Name  Age  Gender\n",
      "0   Alice   25  Female\n",
      "1     Bob   30    Male\n",
      "2  Claire   27  Female\n"
     ]
    }
   ],
   "source": [
    "import pandas as pd\n",
    "\n",
    "series = pd.Series([1, 2, 3, 4, 5])\n",
    "\n",
    "data = {'Name': ['Alice', 'Bob', 'Claire'],\n",
    "        'Age': [25, 30, 27],\n",
    "        'Gender': ['Female', 'Male', 'Female']}\n",
    "df = pd.DataFrame(data)\n",
    "\n",
    "print(\"Series:\")\n",
    "print(series)\n",
    "print(\"\\nDataFrame:\")\n",
    "print(df)\n"
   ]
  },
  {
   "cell_type": "markdown",
   "id": "6061bbed-024f-426a-aaa8-7ea252506024",
   "metadata": {},
   "source": [
    "As you can see, the Series only has one column of data, whereas the DataFrame has multiple columns. Additionally, the Series has only one index, whereas the DataFrame has two (one for the rows and one for the columns).\n",
    "\n",
    "In summary, a Series is a 1-dimensional labeled array, while a DataFrame is a 2-dimensional labeled data structure with columns of potentially different data types."
   ]
  },
  {
   "cell_type": "markdown",
   "id": "87e64e77-1382-452b-a429-505736889428",
   "metadata": {},
   "source": [
    "Q5. What are some common functions you can use to manipulate data in a Pandas DataFrame? Can\n",
    "you give an example of when you might use one of these functions? \n",
    "\n",
    "Ans Pandas is a powerful library for data manipulation and analysis in Python. Here are some common functions you can use to manipulate data in a Pandas DataFrame:\n",
    "\n",
    "head() - returns the first n rows of the DataFrame (default value of n is 5)\n",
    "tail() - returns the last n rows of the DataFrame (default value of n is 5)\n",
    "describe() - returns a summary of the statistics for each column in the DataFrame\n",
    "shape() - returns the dimensions (number of rows and columns) of the DataFrame\n",
    "drop() - removes specified rows or columns from the DataFrame\n",
    "groupby() - groups the DataFrame by one or more columns, allowing for aggregation and analysis of subsets of the data\n",
    "sort_values() - sorts the DataFrame by one or more columns in ascending or descending order\n",
    "apply() - applies a function to each element, row, or column of the DataFrame\n",
    "merge() - merges two or more DataFrames into one based on a specified key column\n",
    "Here's an example of when you might use one of these functions. Let's say you have a DataFrame that contains information about customers and their orders. You want to find out the total amount spent by each customer. You could use the groupby() function to group the DataFrame by customer name and then use the sum() function to calculate the total amount spent for each customer. Here's the code:"
   ]
  },
  {
   "cell_type": "code",
   "execution_count": 1,
   "id": "4f512014-6e05-41b3-afa6-55e019b78658",
   "metadata": {},
   "outputs": [
    {
     "name": "stdout",
     "output_type": "stream",
     "text": [
      "Customer\n",
      "Bob     30\n",
      "John    90\n",
      "Mary    85\n",
      "Name: Amount, dtype: int64\n"
     ]
    }
   ],
   "source": [
    "import pandas as pd\n",
    "\n",
    "df = pd.DataFrame({'Customer': ['John', 'Mary', 'John', 'Bob', 'Mary'],\n",
    "                   'Order': ['Shoes', 'Shirt', 'Pants', 'Shirt', 'Shoes'],\n",
    "                   'Amount': [50, 25, 40, 30, 60]})\n",
    "\n",
    "totals = df.groupby('Customer')['Amount'].sum()\n",
    "\n",
    "print(totals)\n"
   ]
  },
  {
   "cell_type": "markdown",
   "id": "00e2a42e-47f3-473f-9437-32348ec123aa",
   "metadata": {},
   "source": [
    "This code groups the DataFrame by the Customer column and calculates the sum of the Amount column for each group. The result is a new DataFrame with the total amount spent by each customer."
   ]
  },
  {
   "cell_type": "markdown",
   "id": "562778fb-5520-43e8-a110-41c6d845efc8",
   "metadata": {},
   "source": [
    "Q6. Which of the following is mutable in nature Series, DataFrame, Panel?\n",
    "\n",
    "ANS In Pandas, both Series and DataFrame are mutable in nature, which means that you can modify their values, add or remove elements, and perform other operations that change the underlying data.\n",
    "\n",
    "On the other hand, Panel is a 3-dimensional data structure in Pandas that is less commonly used than Series or DataFrame. It is mutable as well, but is less flexible than DataFrame and is often used for specialized purposes.\n",
    "\n",
    "So, to summarize, both Series and DataFrame are mutable in nature in Pandas, while Panel is also mutable but is a less commonly used data structure."
   ]
  },
  {
   "cell_type": "markdown",
   "id": "a8f07402-3dd2-420b-8d59-efa2e56803a7",
   "metadata": {},
   "source": [
    "Q7. Create a DataFrame using multiple Series. Explain with an example.\n"
   ]
  },
  {
   "cell_type": "code",
   "execution_count": 5,
   "id": "bd9be1a7-f9c1-405c-b72c-f4c45a900ad7",
   "metadata": {},
   "outputs": [
    {
     "name": "stdout",
     "output_type": "stream",
     "text": [
      "     Name  Age  Gender\n",
      "0   Alice   25  Female\n",
      "1     Bob   30    Male\n",
      "2  Claire   27  Female\n"
     ]
    }
   ],
   "source": [
    "import pandas as pd\n",
    "\n",
    "name = pd.Series(['Alice', 'Bob', 'Claire'])\n",
    "age = pd.Series([25, 30, 27])\n",
    "gender = pd.Series(['Female', 'Male', 'Female'])\n",
    "\n",
    "\n",
    "data = {'Name': name, 'Age': age, 'Gender': gender}\n",
    "df = pd.DataFrame(data)\n",
    "\n",
    "\n",
    "print(df)\n"
   ]
  },
  {
   "cell_type": "code",
   "execution_count": null,
   "id": "ffaf5915-0827-4372-8b88-7a74f88112d5",
   "metadata": {},
   "outputs": [],
   "source": []
  }
 ],
 "metadata": {
  "kernelspec": {
   "display_name": "Python 3 (ipykernel)",
   "language": "python",
   "name": "python3"
  },
  "language_info": {
   "codemirror_mode": {
    "name": "ipython",
    "version": 3
   },
   "file_extension": ".py",
   "mimetype": "text/x-python",
   "name": "python",
   "nbconvert_exporter": "python",
   "pygments_lexer": "ipython3",
   "version": "3.10.8"
  }
 },
 "nbformat": 4,
 "nbformat_minor": 5
}
