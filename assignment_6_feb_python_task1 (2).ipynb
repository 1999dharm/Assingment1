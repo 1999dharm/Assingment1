{
  "nbformat": 4,
  "nbformat_minor": 0,
  "metadata": {
    "colab": {
      "provenance": []
    },
    "kernelspec": {
      "name": "python3",
      "display_name": "Python 3"
    },
    "language_info": {
      "name": "python"
    }
  },
  "cells": [
    {
      "cell_type": "code",
      "source": [
        "#Q1. Create a function which will take a list as an argument and return the product of all the numbers\n",
        "#after creating a flat list.\n",
        "#Use the below-given list as an argument for your function.\n",
        "#list1 = [1,2,3,4, [44,55,66, True], False, (34,56,78,89,34), {1,2,3,3,2,1}, {1:34, \"key2\": [55, 67, 78, 89], 4: (45,\n",
        "#22, 61, 34)}, [56, 'data science'], 'Machine Learning']\n",
        "#Note: you must extract numeric keys and values of the dictionary also.\n",
        "\n",
        "def get_product(lst):\n",
        "    def flatten(l):\n",
        "        for el in l:\n",
        "            if isinstance(el, (list, tuple, set)):\n",
        "                yield from flatten(el)\n",
        "            elif isinstance(el, dict):\n",
        "                yield from flatten(list(el.values()) + list(el.keys()))\n",
        "            elif isinstance(el, (int, float)):\n",
        "                yield el\n",
        "\n",
        "    numbers = list(flatten(lst))\n",
        "    product = 1\n",
        "    for num in numbers:\n",
        "         product *= num\n",
        "    return product\n",
        "\n",
        "list1 = [1,2,3,4, [44,55,66, True], False, (34,56,78,89,34), {1,2,3,3,2,1}, {1:34, \"key2\": [55, 67, 78, 89], 4: (45, 22, 61, 34)}, [56, 'data science'], 'Machine Learning']\n",
        "result = get_product(list1)\n",
        "print(result)\n",
        "\n",
        "\n",
        "\n",
        "\n"
      ],
      "metadata": {
        "colab": {
          "base_uri": "https://localhost:8080/"
        },
        "id": "XQZGjnCrQZbD",
        "outputId": "cd4013bf-1124-443a-f03d-444e01a2685c"
      },
      "execution_count": 3,
      "outputs": [
        {
          "output_type": "stream",
          "name": "stdout",
          "text": [
            "0\n"
          ]
        }
      ]
    },
    {
      "cell_type": "code",
      "execution_count": null,
      "metadata": {
        "colab": {
          "base_uri": "https://localhost:8080/",
          "height": 35
        },
        "id": "KvfJ0sWMOrvA",
        "outputId": "5870cb7d-9535-4a96-ae74-1728e6564296"
      },
      "outputs": [
        {
          "output_type": "execute_result",
          "data": {
            "text/plain": [
              "'$I$dzmg$z$yvxlnv$z$wzgz$hxrvmgrhg.'"
            ],
            "application/vnd.google.colaboratory.intrinsic+json": {
              "type": "string"
            }
          },
          "metadata": {},
          "execution_count": 6
        }
      ],
      "source": [
        "#Q2. Write a python program for encrypting a message sent to you by your friend. The logic of encryption\n",
        "#should be such that, for a the output should be z. For b, the output should be y. For c, the output should\n",
        "#be x respectively. Also, the whitespace should be replaced with a dollar sign. Keep the punctuation\n",
        "#marks unchanged.\n",
        "#Input Sentence: I want to become a Data Scientist.\n",
        "#Encrypt the above input sentence using the program you just created.\n",
        "\n",
        "def encrypt(text):\n",
        "  encrypt = \"\"\n",
        "  for char in text:\n",
        "    if char == \" \":\n",
        "      encrypt += \"$\"\n",
        "    elif char.islower():\n",
        "      encrypt += chr(122- ord(char)+ 97)\n",
        "    else:\n",
        "      encrypt += char \n",
        "  return encrypt\n",
        "\n",
        "text = \" I want a become a data scientist.\"\n",
        "encrypt = encrypt(text)\n",
        "encrypt"
      ]
    },
    {
      "cell_type": "code",
      "source": [],
      "metadata": {
        "id": "iFG-flODOsUE"
      },
      "execution_count": null,
      "outputs": []
    },
    {
      "cell_type": "code",
      "source": [],
      "metadata": {
        "id": "6rwK8Ss9OsVy"
      },
      "execution_count": null,
      "outputs": []
    },
    {
      "cell_type": "code",
      "source": [],
      "metadata": {
        "id": "IoXC_ORAOsX9"
      },
      "execution_count": null,
      "outputs": []
    },
    {
      "cell_type": "code",
      "source": [],
      "metadata": {
        "id": "uPu571E9OscG"
      },
      "execution_count": null,
      "outputs": []
    },
    {
      "cell_type": "code",
      "source": [],
      "metadata": {
        "id": "wsUnWxg-OseH"
      },
      "execution_count": null,
      "outputs": []
    },
    {
      "cell_type": "code",
      "source": [],
      "metadata": {
        "id": "0Eyly8dKOsgQ"
      },
      "execution_count": null,
      "outputs": []
    },
    {
      "cell_type": "code",
      "source": [],
      "metadata": {
        "id": "2-RwawgDOsiD"
      },
      "execution_count": null,
      "outputs": []
    },
    {
      "cell_type": "code",
      "source": [],
      "metadata": {
        "id": "NF0E9IPGOskp"
      },
      "execution_count": null,
      "outputs": []
    },
    {
      "cell_type": "code",
      "source": [],
      "metadata": {
        "id": "zliVBqJWOsoB"
      },
      "execution_count": null,
      "outputs": []
    },
    {
      "cell_type": "code",
      "source": [],
      "metadata": {
        "id": "8nQORPrxOtIs"
      },
      "execution_count": null,
      "outputs": []
    },
    {
      "cell_type": "code",
      "source": [],
      "metadata": {
        "id": "tT4Zi677OtLG"
      },
      "execution_count": null,
      "outputs": []
    },
    {
      "cell_type": "code",
      "source": [],
      "metadata": {
        "id": "zw5NJ1rZOtOr"
      },
      "execution_count": null,
      "outputs": []
    }
  ]
}