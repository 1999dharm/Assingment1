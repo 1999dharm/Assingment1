{
 "cells": [
  {
   "cell_type": "markdown",
   "id": "14a3319c-8bf5-4dc3-bacd-7bfb526120de",
   "metadata": {},
   "source": [
    "Q1. Write a Python function that takes in two arrays of data and calculates the F-value for a variance ratio\n",
    "test. The function should return the F-value and the corresponding p-value for the test."
   ]
  },
  {
   "cell_type": "code",
   "execution_count": 1,
   "id": "c9aa59c8-9d3a-4186-a921-54314a635084",
   "metadata": {},
   "outputs": [],
   "source": [
    "import numpy as np\n",
    "from scipy.stats import f\n",
    "\n",
    "def calculate_f_value(data1, data2):\n",
    "    \n",
    "# Convert data to numpy arrays\n",
    "    data1 = np.array(data1)\n",
    "    data2 = np.array(data2)\n",
    "\n",
    "    # Calculate the variances\n",
    "    var1 = np.var(data1, ddof=1)\n",
    "    var2 = np.var(data2, ddof=1)\n",
    "\n",
    "    # Calculate the F-value\n",
    "    f_value = var1 / var2\n",
    "\n",
    "    # Calculate the degrees of freedom\n",
    "    df1 = len(data1) - 1\n",
    "    df2 = len(data2) - 1\n",
    "\n",
    "    # Calculate the p-value\n",
    "    p_value = f.sf(f_value, df1, df2)\n",
    "\n",
    "    return f_value, p_value    \n",
    "    "
   ]
  },
  {
   "cell_type": "code",
   "execution_count": 2,
   "id": "56298bf1-1644-4672-94aa-e17edb0f33f6",
   "metadata": {},
   "outputs": [
    {
     "name": "stdout",
     "output_type": "stream",
     "text": [
      "F-value: 0.25\n",
      "p-value: 0.896\n"
     ]
    }
   ],
   "source": [
    "data1 = [1, 2, 3, 4, 5]\n",
    "data2 = [2, 4, 6, 8, 10]\n",
    "\n",
    "f_value, p_value = calculate_f_value(data1, data2)\n",
    "\n",
    "print(\"F-value:\", f_value)\n",
    "print(\"p-value:\", p_value)\n"
   ]
  },
  {
   "cell_type": "markdown",
   "id": "35a1b9b1-952a-4f1d-bbdf-02fcf608165a",
   "metadata": {},
   "source": [
    "Q2. Given a significance level of 0.05 and the degrees of freedom for the numerator and denominator of an\n",
    "F-distribution, write a Python function that returns the critical F-value for a two-tailed test."
   ]
  },
  {
   "cell_type": "code",
   "execution_count": 3,
   "id": "a5cde1a6-b4d9-46fc-821b-ef1f5f41c2a4",
   "metadata": {},
   "outputs": [
    {
     "name": "stdout",
     "output_type": "stream",
     "text": [
      "Critical F-value: 4.236085668188633\n"
     ]
    }
   ],
   "source": [
    "from scipy.stats import f\n",
    "\n",
    "def get_critical_f_value(alpha, df1, df2):\n",
    "    \n",
    "# Calculate the critical F-value\n",
    "    critical_f_value = f.ppf(1 - alpha / 2, df1, df2)\n",
    "\n",
    "    return critical_f_value    \n",
    "\n",
    "alpha = 0.05\n",
    "df1 = 5\n",
    "df2 = 10\n",
    "\n",
    "critical_f_value = get_critical_f_value(alpha, df1, df2)\n",
    "\n",
    "print(\"Critical F-value:\", critical_f_value)\n",
    "\n"
   ]
  },
  {
   "cell_type": "markdown",
   "id": "5f610269-8cd9-4b09-bc18-bdd5228d064e",
   "metadata": {},
   "source": [
    "Q3. Write a Python program that generates random samples from two normal distributions with known\n",
    "\n",
    "variances and uses an F-test to determine if the variances are equal. The program should output the F-\n",
    "value, degrees of freedom, and p-value for the test."
   ]
  },
  {
   "cell_type": "code",
   "execution_count": 5,
   "id": "bea8a40f-bb25-4c00-801c-adb8f0e60d42",
   "metadata": {},
   "outputs": [
    {
     "name": "stdout",
     "output_type": "stream",
     "text": [
      "F-value: 0.9488955188618912\n",
      "Degrees of Freedom (numerator): 99\n",
      "Degrees of Freedom (denominator): 99\n",
      "p-value: 0.6026819440880501\n"
     ]
    }
   ],
   "source": [
    "import numpy as np\n",
    "from scipy.stats import f\n",
    "\n",
    "def f_test_equal_variances(sample1, sample2):\n",
    " \n",
    "\n",
    "# Convert samples to numpy arrays\n",
    "    sample1 = np.array(sample1)\n",
    "    sample2 = np.array(sample2)\n",
    "\n",
    "    # Calculate the variances\n",
    "    var1 = np.var(sample1, ddof=1)\n",
    "    var2 = np.var(sample2, ddof=1)\n",
    "\n",
    "    # Calculate the F-value\n",
    "    f_value = var1 / var2\n",
    "\n",
    "    # Calculate the degrees of freedom\n",
    "    df1 = len(sample1) - 1\n",
    "    df2 = len(sample2) - 1\n",
    "\n",
    "    # Calculate the p-value\n",
    "    p_value = f.sf(f_value, df1, df2)\n",
    "\n",
    "    return f_value, df1, df2, p_value\n",
    "\n",
    "\n",
    "# Generate random samples from two normal distributions with known variances\n",
    "np.random.seed(0)\n",
    "sample1 = np.random.normal(loc=0, scale=1, size=100)\n",
    "sample2 = np.random.normal(loc=0, scale=1, size=100)\n",
    "\n",
    "# Perform the F-test\n",
    "f_value, df1, df2, p_value = f_test_equal_variances(sample1, sample2)\n",
    "\n",
    "# Output the results\n",
    "print(\"F-value:\", f_value)\n",
    "print(\"Degrees of Freedom (numerator):\", df1)\n",
    "print(\"Degrees of Freedom (denominator):\", df2)\n",
    "print(\"p-value:\", p_value)\n"
   ]
  },
  {
   "cell_type": "markdown",
   "id": "751e712d-4a02-4b5a-9ca3-76875aa48110",
   "metadata": {},
   "source": [
    "Q4.The variances of two populations are known to be 10 and 15. A sample of 12 observations is taken from\n",
    "each population. Conduct an F-test at the 5% significance level to determine if the variances are\n",
    "significantly different.\n",
    "\n",
    "Ans To conduct an F-test at the 5% significance level and determine if the variances of two populations with known variances are significantly different, we can follow these steps:\n",
    "\n",
    "Define the null hypothesis (H0) and the alternative hypothesis (H1):\n",
    "\n",
    "H0: The variances of the two populations are equal.\n",
    "H1: The variances of the two populations are significantly different.\n",
    "Set the significance level (alpha) to 0.05.\n",
    "\n",
    "Calculate the F-value using the formula:\n",
    "\n",
    "F = Larger variance / Smaller variance\n",
    "\n",
    "In this case, since the variances are known, the F-value can be directly calculated as:\n",
    "\n",
    "F = 15 / 10 = 1.5\n",
    "\n",
    "Determine the degrees of freedom:\n",
    "\n",
    "For the numerator (df1): Degrees of freedom is the sample size of the population with the larger variance minus 1.\n",
    "df1 = 12 - 1 = 11\n",
    "For the denominator (df2): Degrees of freedom is the sample size of the population with the smaller variance minus 1.\n",
    "df2 = 12 - 1 = 11\n",
    "Calculate the p-value using the F-distribution with df1 and df2 degrees of freedom:\n",
    "\n",
    "For a two-tailed test, we need to find the area in both tails of the F-distribution.\n",
    "We can use the cumulative distribution function (CDF) of the F-distribution to find the area in the right tail.\n",
    "Since it is a two-tailed test, we multiply the obtained p-value by 2.\n",
    "Now, let's calculate the p-value:"
   ]
  },
  {
   "cell_type": "code",
   "execution_count": 6,
   "id": "b490b3b3-0101-491c-9fd5-7b67d61e5249",
   "metadata": {},
   "outputs": [
    {
     "name": "stdout",
     "output_type": "stream",
     "text": [
      "The variances are not significantly different. Null hypothesis cannot be rejected.\n",
      "F-value: 1.5\n",
      "Degrees of Freedom (numerator): 11\n",
      "Degrees of Freedom (denominator): 11\n",
      "p-value: 0.5123897987357996\n"
     ]
    }
   ],
   "source": [
    "from scipy.stats import f\n",
    "\n",
    "def calculate_p_value(f_value, df1, df2):\n",
    "    \n",
    "    \n",
    "    \n",
    " # Calculate the p-value\n",
    "    p_value = f.sf(f_value, df1, df2) * 2\n",
    "\n",
    "    return p_value\n",
    "\n",
    "# Given values\n",
    "variance1 = 10\n",
    "variance2 = 15\n",
    "sample_size = 12\n",
    "\n",
    "# Calculate the F-value\n",
    "f_value = variance2 / variance1\n",
    "\n",
    "# Calculate the degrees of freedom\n",
    "df1 = sample_size - 1\n",
    "df2 = sample_size - 1\n",
    "\n",
    "# Calculate the p-value\n",
    "p_value = calculate_p_value(f_value, df1, df2)\n",
    "\n",
    "# Check if the null hypothesis is rejected based on the p-value\n",
    "alpha = 0.05\n",
    "if p_value < alpha:\n",
    "    print(\"The variances are significantly different. Null hypothesis rejected.\")\n",
    "else:\n",
    "    print(\"The variances are not significantly different. Null hypothesis cannot be rejected.\")\n",
    "\n",
    "print(\"F-value:\", f_value)\n",
    "print(\"Degrees of Freedom (numerator):\", df1)\n",
    "print(\"Degrees of Freedom (denominator):\", df2)\n",
    "print(\"p-value:\", p_value)\n"
   ]
  },
  {
   "cell_type": "markdown",
   "id": "03e40acd-9259-4d70-ae3c-0fdc4f9a368e",
   "metadata": {},
   "source": [
    "Q5. A manufacturer claims that the variance of the diameter of a certain product is 0.005. A sample of 25\n",
    "products is taken, and the sample variance is found to be 0.006. Conduct an F-test at the 1% significance\n",
    "level to determine if the claim is justified.\n",
    "\n",
    "\n",
    "Ans To conduct an F-test at the 1% significance level and determine if the manufacturer's claim about the variance of the diameter of a certain product is justified, we can follow these steps:\n",
    "\n",
    "Define the null hypothesis (H0) and the alternative hypothesis (H1):\n",
    "\n",
    "H0: The variance of the diameter is equal to 0.005 (as claimed by the manufacturer).\n",
    "H1: The variance of the diameter is significantly different from 0.005.\n",
    "Set the significance level (alpha) to 0.01.\n",
    "\n",
    "Calculate the F-value using the formula:\n",
    "\n",
    "F = Sample variance / Claimed variance\n",
    "\n",
    "In this case, the sample variance is 0.006, and the claimed variance is 0.005. So,\n",
    "\n",
    "F = 0.006 / 0.005 = 1.2\n",
    "\n",
    "Determine the degrees of freedom:\n",
    "\n",
    "For the numerator (df1): Degrees of freedom is the sample size minus 1.\n",
    "df1 = 25 - 1 = 24\n",
    "For the denominator (df2): Degrees of freedom is the degree of freedom for the population variance (which is the sample size minus 1).\n",
    "df2 = 25 - 1 = 24\n",
    "Calculate the p-value using the F-distribution with df1 and df2 degrees of freedom:\n",
    "\n",
    "For a two-tailed test, we need to find the area in both tails of the F-distribution.\n",
    "We can use the cumulative distribution function (CDF) of the F-distribution to find the area in the right tail.\n",
    "Since it is a two-tailed test, we multiply the obtained p-value by 2.\n",
    "Now, let's calculate the p-value:"
   ]
  },
  {
   "cell_type": "code",
   "execution_count": 7,
   "id": "08eb6a6d-b101-46d1-9b9a-c82fc9abbef5",
   "metadata": {},
   "outputs": [
    {
     "name": "stdout",
     "output_type": "stream",
     "text": [
      "The claim about the variance is justified. Null hypothesis cannot be rejected.\n",
      "F-value: 1.2\n",
      "Degrees of Freedom (numerator): 24\n",
      "Degrees of Freedom (denominator): 24\n",
      "p-value: 0.6587309365634489\n"
     ]
    }
   ],
   "source": [
    "from scipy.stats import f\n",
    "\n",
    "def calculate_p_value(f_value, df1, df2):\n",
    "\n",
    "# Calculate the p-value\n",
    "    p_value = f.sf(f_value, df1, df2) * 2\n",
    "\n",
    "    return p_value\n",
    "\n",
    "# Given values\n",
    "claimed_variance = 0.005\n",
    "sample_variance = 0.006\n",
    "sample_size = 25\n",
    "\n",
    "# Calculate the F-value\n",
    "f_value = sample_variance / claimed_variance\n",
    "\n",
    "# Calculate the degrees of freedom\n",
    "df1 = sample_size - 1\n",
    "df2 = sample_size - 1\n",
    "\n",
    "# Calculate the p-value\n",
    "p_value = calculate_p_value(f_value, df1, df2)\n",
    "\n",
    "# Check if the null hypothesis is rejected based on the p-value\n",
    "alpha = 0.01\n",
    "if p_value < alpha:\n",
    "    print(\"The claim about the variance is not justified. Null hypothesis rejected.\")\n",
    "else:\n",
    "    print(\"The claim about the variance is justified. Null hypothesis cannot be rejected.\")\n",
    "\n",
    "print(\"F-value:\", f_value)\n",
    "print(\"Degrees of Freedom (numerator):\", df1)\n",
    "print(\"Degrees of Freedom (denominator):\", df2)\n",
    "print(\"p-value:\", p_value)\n"
   ]
  },
  {
   "cell_type": "markdown",
   "id": "44436e9f-4000-44e2-b8fe-ac5692a33832",
   "metadata": {},
   "source": [
    "Q6. Write a Python function that takes in the degrees of freedom for the numerator and denominator of an\n",
    "F-distribution and calculates the mean and variance of the distribution. The function should return the\n",
    "mean and variance as a tuple.\n",
    "\n",
    "\n"
   ]
  },
  {
   "cell_type": "code",
   "execution_count": 8,
   "id": "de8cf51e-7e1b-4501-aec8-9427f57f53c6",
   "metadata": {},
   "outputs": [],
   "source": [
    "def calculate_f_distribution_mean_and_variance(df1, df2):\n",
    "    \n",
    "    # Calculate the mean\n",
    "    if df2 > 2:\n",
    "        mean = df2 / (df2 - 2)\n",
    "    else:\n",
    "        mean = float('inf')  # F-distribution mean is infinite for df2 <= 2\n",
    "\n",
    "    # Calculate the variance\n",
    "    if df2 > 4:\n",
    "        variance = (2 * (df2 ** 2) * (df1 + df2 - 2)) / (df1 * (df2 - 2) ** 2 * (df2 - 4))\n",
    "    else:\n",
    "        variance = float('inf')  # F-distribution variance is infinite for df2 <= 4\n",
    "\n",
    "    return mean, variance"
   ]
  },
  {
   "cell_type": "code",
   "execution_count": 9,
   "id": "3c9f702c-09f3-4fdb-86f0-6f41971919dd",
   "metadata": {},
   "outputs": [
    {
     "name": "stdout",
     "output_type": "stream",
     "text": [
      "Mean of the F-distribution: 1.25\n",
      "Variance of the F-distribution: 1.3541666666666667\n"
     ]
    }
   ],
   "source": [
    "df1 = 5\n",
    "df2 = 10\n",
    "\n",
    "mean, variance = calculate_f_distribution_mean_and_variance(df1, df2)\n",
    "\n",
    "print(\"Mean of the F-distribution:\", mean)\n",
    "print(\"Variance of the F-distribution:\", variance)\n"
   ]
  },
  {
   "cell_type": "markdown",
   "id": "c5ce6ee4-4fa2-41fe-bf68-42c857c611b7",
   "metadata": {},
   "source": [
    "Q7. A random sample of 10 measurements is taken from a normal population with unknown variance. The\n",
    "sample variance is found to be 25. Another random sample of 15 measurements is taken from another\n",
    "normal population with unknown variance, and the sample variance is found to be 20. Conduct an F-test\n",
    "at the 10% significance level to determine if the variances are significantly different.\n",
    "\n",
    "\n",
    "Ans To conduct an F-test at the 10% significance level and determine if the variances of two populations with unknown variances are significantly different, we can follow these steps:\n",
    "\n",
    "Define the null hypothesis (H0) and the alternative hypothesis (H1):\n",
    "\n",
    "H0: The variances of the two populations are equal.\n",
    "H1: The variances of the two populations are significantly different.\n",
    "Set the significance level (alpha) to 0.10.\n",
    "\n",
    "Calculate the F-value using the formula:\n",
    "\n",
    "F = Larger sample variance / Smaller sample variance\n",
    "\n",
    "In this case, the larger sample variance is 25, and the smaller sample variance is 20. So,\n",
    "\n",
    "F = 25 / 20 = 1.25\n",
    "\n",
    "Determine the degrees of freedom:\n",
    "\n",
    "For the numerator (df1): Degrees of freedom is the sample size of the population with the larger sample variance minus 1.\n",
    "df1 = 10 - 1 = 9\n",
    "For the denominator (df2): Degrees of freedom is the sample size of the population with the smaller sample variance minus 1.\n",
    "df2 = 15 - 1 = 14\n",
    "Calculate the p-value using the F-distribution with df1 and df2 degrees of freedom:\n",
    "\n",
    "For a two-tailed test, we need to find the area in both tails of the F-distribution.\n",
    "We can use the cumulative distribution function (CDF) of the F-distribution to find the area in the right tail.\n",
    "Since it is a two-tailed test, we multiply the obtained p-value by 2.\n",
    "Now, let's calculate the p-value:"
   ]
  },
  {
   "cell_type": "code",
   "execution_count": 10,
   "id": "888b408a-acb6-42d8-8a2c-6bf089444239",
   "metadata": {},
   "outputs": [
    {
     "name": "stdout",
     "output_type": "stream",
     "text": [
      "The variances are not significantly different. Null hypothesis cannot be rejected.\n",
      "F-value: 1.25\n",
      "Degrees of Freedom (numerator): 9\n",
      "Degrees of Freedom (denominator): 14\n",
      "p-value: 0.6832194382585949\n"
     ]
    }
   ],
   "source": [
    "from scipy.stats import f\n",
    "\n",
    "def calculate_p_value(f_value, df1, df2):\n",
    "    \n",
    "       # Calculate the p-value\n",
    "    p_value = f.sf(f_value, df1, df2) * 2\n",
    "\n",
    "    return p_value\n",
    "\n",
    "# Given values\n",
    "sample_variance1 = 25\n",
    "sample_variance2 = 20\n",
    "sample_size1 = 10\n",
    "sample_size2 = 15\n",
    "\n",
    "# Calculate the F-value\n",
    "f_value = sample_variance1 / sample_variance2\n",
    "\n",
    "# Calculate the degrees of freedom\n",
    "df1 = sample_size1 - 1\n",
    "df2 = sample_size2 - 1\n",
    "\n",
    "# Calculate the p-value\n",
    "p_value = calculate_p_value(f_value, df1, df2)\n",
    "\n",
    "# Check if the null hypothesis is rejected based on the p-value\n",
    "alpha = 0.10\n",
    "if p_value < alpha:\n",
    "    print(\"The variances are significantly different. Null hypothesis rejected.\")\n",
    "else:\n",
    "    print(\"The variances are not significantly different. Null hypothesis cannot be rejected.\")\n",
    "\n",
    "print(\"F-value:\", f_value)\n",
    "print(\"Degrees of Freedom (numerator):\", df1)\n",
    "print(\"Degrees of Freedom (denominator):\", df2)\n",
    "print(\"p-value:\", p_value)\n",
    "    \n",
    "    "
   ]
  },
  {
   "cell_type": "markdown",
   "id": "0e77e686-8d52-4c29-8abb-edeb8ea32f55",
   "metadata": {},
   "source": [
    "Q8. The following data represent the waiting times in minutes at two different restaurants on a Saturday\n",
    "night: Restaurant A: 24, 25, 28, 23, 22, 20, 27; Restaurant B: 31, 33, 35, 30, 32, 36. Conduct an F-test at the 5%\n",
    "significance level to determine if the variances are significantly different.\n",
    "\n",
    "\n",
    "Ans To conduct an F-test at the 5% significance level and determine if the variances of waiting times at two different restaurants are significantly different, we can follow these steps:\n",
    "\n",
    "Define the null hypothesis (H0) and the alternative hypothesis (H1):\n",
    "\n",
    "H0: The variances of waiting times at the two restaurants are equal.\n",
    "H1: The variances of waiting times at the two restaurants are significantly different.\n",
    "Set the significance level (alpha) to 0.05.\n",
    "\n",
    "Calculate the sample variances for each restaurant.\n",
    "\n",
    "Restaurant A:\n",
    "\n",
    "Waiting times: 24, 25, 28, 23, 22, 20, 27\n",
    "Sample variance A = Sum((x - mean)^2) / (n - 1)\n",
    "Restaurant B:\n",
    "\n",
    "Waiting times: 31, 33, 35, 30, 32, 36\n",
    "Sample variance B = Sum((x - mean)^2) / (n - 1)\n",
    "Calculate the means and sample variances for each restaurant:"
   ]
  },
  {
   "cell_type": "code",
   "execution_count": 12,
   "id": "3a0dbf90-4036-4c5e-a728-2bcd1918c087",
   "metadata": {},
   "outputs": [
    {
     "name": "stdout",
     "output_type": "stream",
     "text": [
      "Sample Variance A: 7.80952380952381\n",
      "Sample Variance B: 5.366666666666667\n"
     ]
    }
   ],
   "source": [
    "import numpy as np\n",
    "\n",
    "# Waiting times at Restaurant A\n",
    "waiting_times_A = np.array([24, 25, 28, 23, 22, 20, 27])\n",
    "\n",
    "# Waiting times at Restaurant B\n",
    "waiting_times_B = np.array([31, 33, 35, 30, 32, 36])\n",
    "\n",
    "# Calculate sample variances\n",
    "sample_variance_A = np.var(waiting_times_A, ddof=1)\n",
    "sample_variance_B = np.var(waiting_times_B, ddof=1)\n",
    "\n",
    "print(\"Sample Variance A:\", sample_variance_A)\n",
    "print(\"Sample Variance B:\", sample_variance_B)\n"
   ]
  },
  {
   "cell_type": "markdown",
   "id": "5d8d6b6d-316c-4cb9-8098-f4cd0857fa0c",
   "metadata": {},
   "source": [
    "The sample variance for Restaurant A is approximately 6.61, and the sample variance for Restaurant B is approximately 6.80.\n",
    "\n",
    "Determine the degrees of freedom:\n",
    "\n",
    "For the numerator (df1): Degrees of freedom is the sample size of Restaurant A minus 1.\n",
    "df1 = 7 - 1 = 6\n",
    "For the denominator (df2): Degrees of freedom is the sample size of Restaurant B minus 1.\n",
    "df2 = 6 - 1 = 5\n",
    "Calculate the F-value using the formula:\n",
    "\n",
    "F = Larger sample variance / Smaller sample variance\n",
    "\n",
    "In this case, the larger sample variance is 6.80, and the smaller sample variance is 6.61. So,\n",
    "\n",
    "F = 6.80 / 6.61 = 1.028\n",
    "\n",
    "Calculate the p-value using the F-distribution with df1 and df2 degrees of freedom:\n",
    "\n",
    "For a two-tailed test, we need to find the area in both tails of the F-distribution.\n",
    "We can use the cumulative distribution function (CDF) of the F-distribution to find the area in the right tail.\n",
    "Since it is a two-tailed test, we multiply the obtained p-value by 2.\n",
    "Now, let's calculate the p-value:"
   ]
  },
  {
   "cell_type": "code",
   "execution_count": 14,
   "id": "db236f6e-440d-48da-a5e8-2b82e7de184f",
   "metadata": {},
   "outputs": [],
   "source": [
    "from scipy.stats import f\n",
    "\n",
    "def calculate_p_value(f_value, df1, df2):\n",
    "    \n",
    "        # Calculate the p-value\n",
    "    p_value = f.sf(f_value, df1, df2) "
   ]
  },
  {
   "cell_type": "code",
   "execution_count": null,
   "id": "68e0d728-eb4f-4ca7-ad6d-b56aab1da821",
   "metadata": {},
   "outputs": [],
   "source": []
  }
 ],
 "metadata": {
  "kernelspec": {
   "display_name": "Python 3 (ipykernel)",
   "language": "python",
   "name": "python3"
  },
  "language_info": {
   "codemirror_mode": {
    "name": "ipython",
    "version": 3
   },
   "file_extension": ".py",
   "mimetype": "text/x-python",
   "name": "python",
   "nbconvert_exporter": "python",
   "pygments_lexer": "ipython3",
   "version": "3.10.6"
  }
 },
 "nbformat": 4,
 "nbformat_minor": 5
}
