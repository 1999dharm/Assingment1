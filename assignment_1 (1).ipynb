{
 "cells": [
  {
   "cell_type": "raw",
   "id": "f4abae7c-bd91-4335-8eac-6636f6264ef3",
   "metadata": {},
   "source": [
    "2. Which type of Programming does Python support? \n",
    "Ans. Python supports multiple programming paradigms including procedural, object-oriented, and functional programming.\n",
    "3. Is Python case sensitive when dealing with identifiers? \n",
    "Ans. Yes, Python is case sensitive when dealing with identifiers (such as variable names, function names, etc.). For example, the names \"var1\" and \"Var1\" would be treated as two different variables.\n",
    "4. What is the correct extension of the Python file? \n",
    "Ans. The correct extension of a Python file is \".py\"."
   ]
  }
 ],
 "metadata": {
  "kernelspec": {
   "display_name": "Python 3 (ipykernel)",
   "language": "python",
   "name": "python3"
  },
  "language_info": {
   "codemirror_mode": {
    "name": "ipython",
    "version": 3
   },
   "file_extension": ".py",
   "mimetype": "text/x-python",
   "name": "python",
   "nbconvert_exporter": "python",
   "pygments_lexer": "ipython3",
   "version": "3.10.8"
  }
 },
 "nbformat": 4,
 "nbformat_minor": 5
}
