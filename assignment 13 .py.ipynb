{
 "cells": [
  {
   "cell_type": "markdown",
   "id": "98aab4d9",
   "metadata": {},
   "source": [
    "Q1. Explain why we have to use the Exception class while creating a Custom Exception.\n",
    "Note: Here Exception class refers to the base class for all the exceptions.\n",
    "\n",
    "Ans When creating a custom exception in Python, it is important to inherit from the built-in Exception class or one of its subclasses. The Exception class provides a standardized way of handling errors in Python and is the base class for all built-in exceptions.\n",
    "\n",
    "Using the Exception class as the base class for a custom exception allows the new exception to inherit all of the properties and behaviors of the base class, such as the ability to raise and catch the exception using standard Python exception handling mechanisms. Additionally, the Exception class provides a number of built-in methods and attributes that can be useful when creating a custom exception, such as the __str__ method for defining a custom error message.\n",
    "\n",
    "Inheriting from the Exception class also ensures that the new exception is consistent with the rest of the Python language and follows established best practices for error handling. This can make the code more maintainable and easier to understand for other developers who may need to work with the code in the future.\n",
    "\n",
    "Overall, using the Exception class as the base class for a custom exception helps to ensure that the exception behaves in a predictable and consistent manner and integrates seamlessly with the rest of the Python language and its built-in error handling mechanisms."
   ]
  },
  {
   "cell_type": "markdown",
   "id": "2154a717",
   "metadata": {},
   "source": [
    "Q2. Write a python program to print Python Exception Hierarchy.\n",
    "\n",
    "Ans Python program that prints the Python Exception Hierarchy using the __bases__ attribute of an exception class:"
   ]
  },
  {
   "cell_type": "code",
   "execution_count": null,
   "id": "299d4d72",
   "metadata": {},
   "outputs": [],
   "source": [
    "# Python program to print Python Exception Hierarchy\n",
    "\n",
    "def print_exception_hierarchy(exception_class):\n",
    "    \"\"\"Prints the exception hierarchy for a given exception class\"\"\"\n",
    "    print(exception_class.__name__)\n",
    "    for base_class in exception_class.__bases__:\n",
    "        print_exception_hierarchy(base_class)\n",
    "\n",
    "print_exception_hierarchy(Exception)\n"
   ]
  },
  {
   "cell_type": "markdown",
   "id": "9d323f57",
   "metadata": {},
   "source": [
    "This program defines a function called print_exception_hierarchy which takes an exception class as its argument and recursively prints the hierarchy of exception classes that it inherits from, using the __bases__ attribute.\n",
    "\n",
    "The program then calls print_exception_hierarchy with the Exception class as the argument, which is the root of the Python Exception Hierarchy.\n",
    "\n",
    "When executed, the program outputs the exception hierarchy in a nested format, with each exception class listed in the order that it inherits from its base classes. Here's an example "
   ]
  },
  {
   "cell_type": "code",
   "execution_count": 1,
   "id": "81317287",
   "metadata": {},
   "outputs": [
    {
     "data": {
      "text/plain": [
       "object"
      ]
     },
     "execution_count": 1,
     "metadata": {},
     "output_type": "execute_result"
    }
   ],
   "source": [
    "Exception\n",
    "BaseException\n",
    "object\n"
   ]
  },
  {
   "cell_type": "markdown",
   "id": "c28aea95",
   "metadata": {},
   "source": [
    "Q3. What errors are defined in the ArithmeticError class? Explain any two with an example.\n",
    "\n",
    "Ans he ArithmeticError class is a built-in Python exception class that is raised when an arithmetic error occurs, such as division by zero, overflow or underflow. ArithmeticError is a base class for a number of more specific exception classes that represent different types of arithmetic errors.\n",
    "\n",
    "Here are two examples of arithmetic errors that are defined in the ArithmeticError class:\n",
    "\n",
    "ZeroDivisionError: "
   ]
  },
  {
   "cell_type": "code",
   "execution_count": 2,
   "id": "cce9df94",
   "metadata": {},
   "outputs": [
    {
     "name": "stdout",
     "output_type": "stream",
     "text": [
      "error division by zero\n"
     ]
    }
   ],
   "source": [
    "a = 10\n",
    "b = 0\n",
    "try :\n",
    "    c = a / b\n",
    "    \n",
    "except ZeroDivisionError as e:\n",
    "    print(\"error\",e)"
   ]
  },
  {
   "cell_type": "markdown",
   "id": "49b200a7",
   "metadata": {},
   "source": [
    "OverflowError: This error is raised when an arithmetic operation exceeds the maximum representable value. For example, on a machine, adding two very large integers might result in an OverflowError"
   ]
  },
  {
   "cell_type": "code",
   "execution_count": 6,
   "id": "babbe173",
   "metadata": {},
   "outputs": [],
   "source": [
    "import sys\n",
    "a = sys.maxsize\n",
    "try:\n",
    "    b = a + a\n",
    "except OverflowError as e:\n",
    "    print(\"Error:\", e)\n"
   ]
  },
  {
   "cell_type": "markdown",
   "id": "b84e1cdc",
   "metadata": {},
   "source": [
    "In both of these examples, the specific error subclass of ArithmeticError is raised (i.e., ZeroDivisionError and OverflowError). By catching these specific exceptions, we can handle different types of arithmetic errors in different ways.\n",
    "\n",
    "\n",
    "\n"
   ]
  },
  {
   "cell_type": "markdown",
   "id": "78c159df",
   "metadata": {},
   "source": [
    "Q4. Why LookupError class is used? Explain with an example KeyError and IndexError.\n",
    "\n",
    "Ans The LookupError class is a built-in Python exception class that is the base class for a number of more specific exception classes that represent different types of lookup errors, such as KeyError and IndexError. LookupError is raised when a lookup operation fails, typically because a requested key or index is not found.\n",
    "\n",
    "Here are two examples of specific lookup errors that are derived from the LookupError class:\n",
    "\n",
    "KeyError: This error is raised when a dictionary key is not found. For example:"
   ]
  },
  {
   "cell_type": "code",
   "execution_count": 7,
   "id": "d3c893fe",
   "metadata": {},
   "outputs": [
    {
     "name": "stdout",
     "output_type": "stream",
     "text": [
      "Error 'd'\n"
     ]
    }
   ],
   "source": [
    "d  = {\"a\":1, \"b\":2 , \"c\":3}\n",
    "try :\n",
    "    value = d[\"d\"]\n",
    "except KeyError as e:\n",
    "    print(\"Error\",e)"
   ]
  },
  {
   "cell_type": "markdown",
   "id": "c2209357",
   "metadata": {},
   "source": [
    "In this example, the code attempts to access the value of a non-existent key 'd' in the dictionary d, which raises a KeyError. By catching this specific exception, we can handle the error gracefully and take appropriate action."
   ]
  },
  {
   "cell_type": "markdown",
   "id": "0d10e42e",
   "metadata": {},
   "source": [
    "Q5. Explain ImportError. What is ModuleNotFoundError?\n",
    "\n",
    "Ans ImportError is a built-in Python exception class that is raised when an imported module, package or attribute is not found. ImportError can occur for a variety of reasons, such as a missing file, a typo in the module or package name, or a missing attribute.\n",
    "\n",
    "ModuleNotFoundError is a more specific exception subclass of ImportError that was introduced in Python 3.6 to provide a clearer error message when an imported module is not found. ModuleNotFoundError is raised when an attempt is made to import a module that does not exist.\n",
    "\n",
    "Here's an example that illustrates the difference between ImportError and ModuleNotFoundError:"
   ]
  },
  {
   "cell_type": "code",
   "execution_count": 8,
   "id": "8d704528",
   "metadata": {},
   "outputs": [
    {
     "name": "stdout",
     "output_type": "stream",
     "text": [
      "ImportError: No module named 'foo'\n"
     ]
    }
   ],
   "source": [
    "try:\n",
    "    import foo\n",
    "except ImportError as e:\n",
    "    print(\"ImportError:\", e)\n"
   ]
  },
  {
   "cell_type": "markdown",
   "id": "5121cec3",
   "metadata": {},
   "source": [
    "In the first example, an attempt is made to import a module named foo that does not exist, which raises an ImportError with a message indicating that the module could not be found"
   ]
  },
  {
   "cell_type": "markdown",
   "id": "7e80fe39",
   "metadata": {},
   "source": [
    "Q6. List down some best practices for exception handling in python.\n",
    "\n",
    "Ans Use specific exception types: Catching specific exceptions allows you to handle different errors differently. You can use a more generic exception, such as Exception, if you want to catch all exceptions. However, this can make it difficult to debug problems.\n",
    "\n",
    "Use try-except blocks judiciously: Use try-except blocks only when you expect errors to occur. Otherwise, errors can be hidden, and you may end up with unexpected behavior.\n",
    "\n",
    "Avoid catching all exceptions: Catching all exceptions with a bare except statement can make it difficult to debug problems. You should only catch specific exceptions that you expect to occur.\n",
    "\n",
    "Keep exception messages informative: Exception messages should be clear and informative, so that users can understand what went wrong and take appropriate action. You can customize exception messages to provide more information about the error.\n",
    "\n",
    "Use context managers: Use context managers, such as with, to automatically handle resource allocation and release. This can help to avoid resource leaks and other errors that can occur when resources are not properly handled.\n",
    "\n",
    "Avoid using exceptions for control flow: Exceptions should be used to handle exceptional conditions, not as a means of control flow. Using exceptions for control flow can make code harder to understand and maintain.\n",
    "\n",
    "Handle exceptions close to where they occur: Handling exceptions close to where they occur makes it easier to understand the code and the context in which the exception occurred. This can make it easier to debug problems."
   ]
  },
  {
   "cell_type": "code",
   "execution_count": null,
   "id": "bf5d3db0",
   "metadata": {},
   "outputs": [],
   "source": []
  }
 ],
 "metadata": {
  "kernelspec": {
   "display_name": "Python 3 (ipykernel)",
   "language": "python",
   "name": "python3"
  },
  "language_info": {
   "codemirror_mode": {
    "name": "ipython",
    "version": 3
   },
   "file_extension": ".py",
   "mimetype": "text/x-python",
   "name": "python",
   "nbconvert_exporter": "python",
   "pygments_lexer": "ipython3",
   "version": "3.9.13"
  }
 },
 "nbformat": 4,
 "nbformat_minor": 5
}
