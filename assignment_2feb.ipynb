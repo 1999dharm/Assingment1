{
  "nbformat": 4,
  "nbformat_minor": 0,
  "metadata": {
    "colab": {
      "provenance": []
    },
    "kernelspec": {
      "name": "python3",
      "display_name": "Python 3"
    },
    "language_info": {
      "name": "python"
    }
  },
  "cells": [
    {
      "cell_type": "code",
      "execution_count": null,
      "metadata": {
        "id": "GikiVFlQowTP"
      },
      "outputs": [],
      "source": [
        "#Q:1 Explain with an example each when to use a for loop and a while loop."
      ]
    },
    {
      "cell_type": "code",
      "source": [
        "#A for loop is used when you know in advance how many times you want to iterate over a block of code. A common use case is when you have a list or array of items and you want to process each item one by one. For example:\n",
        "a = [\"apple \",\"guava\", \"mango\"]\n",
        "for a in a:\n",
        "    print(a)\n"
      ],
      "metadata": {
        "colab": {
          "base_uri": "https://localhost:8080/"
        },
        "id": "mYgAbxgXqIab",
        "outputId": "6fa96f10-23a2-497a-c9a6-b2992a10697f"
      },
      "execution_count": null,
      "outputs": [
        {
          "output_type": "stream",
          "name": "stdout",
          "text": [
            "apple \n",
            "guava\n",
            "mango\n"
          ]
        }
      ]
    },
    {
      "cell_type": "code",
      "source": [
        "#This code will print each fruit in the list fruits one"
      ],
      "metadata": {
        "id": "bviTC6xRqIda"
      },
      "execution_count": null,
      "outputs": []
    },
    {
      "cell_type": "code",
      "source": [
        "#n the other hand, a while loop is used when you want to keep executing a block of code as long as a certain condition is met. For example:"
      ],
      "metadata": {
        "id": "X_ocD6DSqIf1"
      },
      "execution_count": null,
      "outputs": []
    },
    {
      "cell_type": "code",
      "source": [
        "count = 1\n",
        "while count <= 10:\n",
        "  print(count)\n",
        "  count = count + 1\n"
      ],
      "metadata": {
        "colab": {
          "base_uri": "https://localhost:8080/"
        },
        "id": "qvBfkkL-qIil",
        "outputId": "fa1303cb-c49b-4ee4-9fff-bf4265bf345a"
      },
      "execution_count": null,
      "outputs": [
        {
          "output_type": "stream",
          "name": "stdout",
          "text": [
            "1\n",
            "2\n",
            "3\n",
            "4\n",
            "5\n",
            "6\n",
            "7\n",
            "8\n",
            "9\n",
            "10\n"
          ]
        }
      ]
    },
    {
      "cell_type": "code",
      "source": [
        "#This code will print the numbers from 1 to 10. The condition counter <= 10 is checked before each iteration of the loop, and the loop will continue as long as the condition is true."
      ],
      "metadata": {
        "id": "r6-WmuGEqIlm"
      },
      "execution_count": null,
      "outputs": []
    },
    {
      "cell_type": "code",
      "source": [
        "#Q: 2 Write a python program to print the sum and product of the first 10 natural numbers using for\n",
        "#and while loop."
      ],
      "metadata": {
        "id": "lUkDYquOqIou"
      },
      "execution_count": null,
      "outputs": []
    },
    {
      "cell_type": "code",
      "source": [
        "from typing_extensions import Protocol\n",
        "sum = 0 \n",
        "product = 1\n",
        "counter = 1\n",
        "while counter <= 10:\n",
        "     sum = sum + product \n",
        "     product = product * counter \n",
        "     counter = counter + 1 \n",
        "\n",
        "\n",
        "print(\"Sum of the first 10 natural numbers:\", sum)\n",
        "print(\"Product of the first 10 natural numbers:\", product)"
      ],
      "metadata": {
        "colab": {
          "base_uri": "https://localhost:8080/"
        },
        "id": "7tqvm53YqIq4",
        "outputId": "88017a10-ada6-46a7-dcde-b4448624fab4"
      },
      "execution_count": null,
      "outputs": [
        {
          "output_type": "stream",
          "name": "stdout",
          "text": [
            "Sum of the first 10 natural numbers: 409114\n",
            "Product of the first 10 natural numbers: 3628800\n"
          ]
        }
      ]
    },
    {
      "cell_type": "code",
      "source": [
        "#Q:3Create a python program to compute the electricity bill for a household. \n",
        "#The per-unit charges in rupees are as follows: For the first 100 units, the user will be charged Rs. 4.5 per  unit, for the next 100 units, the user will be charged Rs. 6 per unit, and for the next 100 units, the user will  be charged Rs. 10 per unit, After 300 units and above the user will be charged Rs. 20 per unit. \n",
        "#You are required to take the units of electricity consumed in a month from the user as input. \n",
        "#Your program must pass this test case: when the unit of electricity consumed by the user in a month is  310, the total electricity bill should be 2250. \n"
      ],
      "metadata": {
        "id": "m5Di6kbsqIs_"
      },
      "execution_count": null,
      "outputs": []
    },
    {
      "cell_type": "code",
      "source": [
        "unit = int(input (\"please enter the unit of electricity consumed: \"))\n",
        "if  unit <= 100:\n",
        "  bill= unit * 4.5\n",
        "elif unit <= 200:\n",
        "  bill = (100 *4.5) + (unit - 100 )* 6\n",
        "elif unit <= 300:\n",
        "  bill = (100 * 4.5) + (100 * 6) + (unit - 200)* 10\n",
        "else:\n",
        "  bill = (100 * 4.5 ) + (100 * 6) + (100 * 10) + (unit - 300)* 20\n",
        "\n",
        "print(\"the total electricity bill is : \", bill)"
      ],
      "metadata": {
        "id": "oN1ZH2iTwDe4"
      },
      "execution_count": null,
      "outputs": []
    },
    {
      "cell_type": "code",
      "source": [
        "#Q:4 Create a list of numbers from 1 to 100. Use for loop and while loop to calculate the cube of each  number and if the cube of that number is divisible by 4 or 5 then append that number in a list and print  that list. \n"
      ],
      "metadata": {
        "id": "43SUA-e_y6tW"
      },
      "execution_count": null,
      "outputs": []
    },
    {
      "cell_type": "code",
      "source": [
        "number = []\n",
        "i = 1\n",
        "while i <= 100:\n",
        "    cube = i ** 3\n",
        "    if cube % 4 == 0 or  cube % 5 == 0:\n",
        "       number.append(i)\n",
        "    i = i + 1\n",
        "\n",
        "print(\"number whose cube is divisible by 4 or 5 : \", number)"
      ],
      "metadata": {
        "id": "d42sV_WvzDIj"
      },
      "execution_count": null,
      "outputs": []
    },
    {
      "cell_type": "code",
      "source": [
        "#Q:5 Write a program to filter count vowels in the below-given string. \n",
        "string = \"I want to become a data scientist\" \n",
        "vowels = \"AEIOUaeiou\"\n",
        "count = 0\n",
        "for char in string:\n",
        "    if char in vowels:\n",
        "        count += 1\n",
        "print(\"Number of vowels in the string:\", count)"
      ],
      "metadata": {
        "id": "C4X9e16j2JcR"
      },
      "execution_count": null,
      "outputs": []
    }
  ]
}