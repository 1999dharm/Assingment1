{
 "cells": [
  {
   "cell_type": "markdown",
   "id": "f4c769f6",
   "metadata": {},
   "source": [
    "Q1, Create a vehicle class with an init method having instance variables as name_of_vehicle, max_speed and average_of_vehicle.\n",
    "    "
   ]
  },
  {
   "cell_type": "code",
   "execution_count": 1,
   "id": "092ec6c7-0fbd-492e-aeee-7a3be9733599",
   "metadata": {},
   "outputs": [],
   "source": [
    "class vehicle:\n",
    "    def __init__(self , name_of_vehicle , max_speed , average_of_vehicle):\n",
    "        self.name_of_vehicle = name_of_vehicle\n",
    "        self.max_speed  =  max_speed \n",
    "        self.average_of_vehicle = average_of_vehicle\n",
    "    \n",
    "    def vehicle_details(self):\n",
    "        return self.name_of_vehicle, self.max_speed, self.average_of_vehicle\n",
    "        "
   ]
  },
  {
   "cell_type": "code",
   "execution_count": 2,
   "id": "caacb215-1864-4281-9b8c-abec466755fb",
   "metadata": {},
   "outputs": [],
   "source": [
    "a = vehicle(\"toyota\",120 , 78)"
   ]
  },
  {
   "cell_type": "code",
   "execution_count": 3,
   "id": "2a09c48f-3cfd-44b5-8d85-d5b466c321a6",
   "metadata": {},
   "outputs": [
    {
     "data": {
      "text/plain": [
       "120"
      ]
     },
     "execution_count": 3,
     "metadata": {},
     "output_type": "execute_result"
    }
   ],
   "source": [
    "a.max_speed"
   ]
  },
  {
   "cell_type": "code",
   "execution_count": 4,
   "id": "1280dd6c-edba-4a7a-ab8a-ec4207c77118",
   "metadata": {},
   "outputs": [
    {
     "data": {
      "text/plain": [
       "78"
      ]
     },
     "execution_count": 4,
     "metadata": {},
     "output_type": "execute_result"
    }
   ],
   "source": [
    "a.average_of_vehicle"
   ]
  },
  {
   "cell_type": "code",
   "execution_count": 5,
   "id": "d1c3add0-e677-43c6-b5a4-9e5043e2f0f1",
   "metadata": {},
   "outputs": [
    {
     "data": {
      "text/plain": [
       "'toyota'"
      ]
     },
     "execution_count": 5,
     "metadata": {},
     "output_type": "execute_result"
    }
   ],
   "source": [
    "a.name_of_vehicle"
   ]
  },
  {
   "cell_type": "code",
   "execution_count": 7,
   "id": "11a567ec-52f2-4a97-af0f-77155599d977",
   "metadata": {},
   "outputs": [
    {
     "data": {
      "text/plain": [
       "('toyota', 120, 78)"
      ]
     },
     "execution_count": 7,
     "metadata": {},
     "output_type": "execute_result"
    }
   ],
   "source": [
    "a.vehicle_details()"
   ]
  },
  {
   "cell_type": "markdown",
   "id": "38d046a3",
   "metadata": {},
   "source": [
    "Q2. Create a child class car from the vehicle class created in Que 1, which will inherit the vehicle class.\n",
    "Create a method named seating_capacity which takes capacity as an argument and returns the name of\n",
    "the vehicle and its seating capacity."
   ]
  },
  {
   "cell_type": "code",
   "execution_count": 8,
   "id": "aeec9cd2-831a-47ca-83f7-40f75e9f038e",
   "metadata": {},
   "outputs": [],
   "source": [
    "class car(vehicle):\n",
    "    def __init__(self, name , year):\n",
    "        self.name = name\n",
    "        self.year = year\n",
    "        \n",
    "    def seating_capacity(self, capacity):\n",
    "        return f\" {self.name} with the capacity of {capacity} pepole\"   "
   ]
  },
  {
   "cell_type": "code",
   "execution_count": 9,
   "id": "d9013b93-ff92-470b-85c8-342fc36b79ce",
   "metadata": {},
   "outputs": [],
   "source": [
    "class1 = car(\"mahendra thar\" , 2023)"
   ]
  },
  {
   "cell_type": "code",
   "execution_count": 10,
   "id": "35dcfc81-7d17-4eda-bb9a-5baa24785ef2",
   "metadata": {},
   "outputs": [
    {
     "data": {
      "text/plain": [
       "'mahendra thar'"
      ]
     },
     "execution_count": 10,
     "metadata": {},
     "output_type": "execute_result"
    }
   ],
   "source": [
    "class1.name"
   ]
  },
  {
   "cell_type": "code",
   "execution_count": 12,
   "id": "d98b4499-1ef6-44f2-9bf2-c6f8b3c4316e",
   "metadata": {},
   "outputs": [
    {
     "data": {
      "text/plain": [
       "' mahendra thar with the capacity of 4 pepole'"
      ]
     },
     "execution_count": 12,
     "metadata": {},
     "output_type": "execute_result"
    }
   ],
   "source": [
    "class1.seating_capacity(4)"
   ]
  },
  {
   "cell_type": "code",
   "execution_count": 13,
   "id": "3915e72e-8fa4-42c0-b18e-14c0a362a2ee",
   "metadata": {},
   "outputs": [
    {
     "data": {
      "text/plain": [
       "2023"
      ]
     },
     "execution_count": 13,
     "metadata": {},
     "output_type": "execute_result"
    }
   ],
   "source": [
    "class1.year"
   ]
  },
  {
   "cell_type": "markdown",
   "id": "dc62f6ba",
   "metadata": {},
   "source": [
    "Q3. What is multiple inheritance? Write a python code to demonstrate multiple inheritance."
   ]
  },
  {
   "cell_type": "code",
   "execution_count": 16,
   "id": "af7ed6f8-511e-4b04-805f-db4a54cfb1af",
   "metadata": {},
   "outputs": [],
   "source": [
    "class parent1:\n",
    "    \n",
    "    def method1(self):\n",
    "        print(\"parent1 class method1\")\n",
    "\n",
    "class parent2:\n",
    "    \n",
    "    def method2(self):\n",
    "        print(\"parnet2 class methhod2\")\n",
    "        \n",
    "        \n",
    "class child(parent1, parent2):\n",
    "    pass"
   ]
  },
  {
   "cell_type": "code",
   "execution_count": 17,
   "id": "1dbdabd7",
   "metadata": {},
   "outputs": [],
   "source": [
    "p = child()"
   ]
  },
  {
   "cell_type": "code",
   "execution_count": 19,
   "id": "bb0023e5",
   "metadata": {},
   "outputs": [
    {
     "name": "stdout",
     "output_type": "stream",
     "text": [
      "parent1 class method1\n"
     ]
    }
   ],
   "source": [
    "p.method1()"
   ]
  },
  {
   "cell_type": "code",
   "execution_count": 21,
   "id": "f97e68cf",
   "metadata": {},
   "outputs": [
    {
     "name": "stdout",
     "output_type": "stream",
     "text": [
      "parnet2 class methhod2\n"
     ]
    }
   ],
   "source": [
    "p.method2()"
   ]
  },
  {
   "cell_type": "markdown",
   "id": "ac6368f1",
   "metadata": {},
   "source": [
    "Q4. What are getter and setter in python? Create a class and create a getter and a setter method in this class."
   ]
  },
  {
   "cell_type": "code",
   "execution_count": 48,
   "id": "867b49f6",
   "metadata": {},
   "outputs": [],
   "source": [
    "class pwkills:\n",
    "    \n",
    "    def __init__(self, course_price, course_name):\n",
    "        self.__course_price = course_price\n",
    "        self.course_name = course_name\n",
    "        \n",
    "    @property\n",
    "    def course_price_access(self):\n",
    "        return self.__course_price\n",
    "    \n",
    "    @course_price_access.setter\n",
    "    def course_price_set(self , price):\n",
    "        if price <= 3500:\n",
    "            pass\n",
    "        else:\n",
    "            self.course_price = price"
   ]
  },
  {
   "cell_type": "code",
   "execution_count": 42,
   "id": "4e931e59",
   "metadata": {},
   "outputs": [],
   "source": [
    "pw = pwkills(3500 , \"data science master\")"
   ]
  },
  {
   "cell_type": "code",
   "execution_count": 43,
   "id": "2033ef34",
   "metadata": {},
   "outputs": [
    {
     "data": {
      "text/plain": [
       "'data science master'"
      ]
     },
     "execution_count": 43,
     "metadata": {},
     "output_type": "execute_result"
    }
   ],
   "source": [
    "pw.course_name"
   ]
  },
  {
   "cell_type": "code",
   "execution_count": 44,
   "id": "091bd95b",
   "metadata": {},
   "outputs": [
    {
     "data": {
      "text/plain": [
       "3500"
      ]
     },
     "execution_count": 44,
     "metadata": {},
     "output_type": "execute_result"
    }
   ],
   "source": [
    "pw.course_price_access"
   ]
  },
  {
   "cell_type": "code",
   "execution_count": 45,
   "id": "a4fe142e",
   "metadata": {},
   "outputs": [],
   "source": [
    "pw.course_price_set = 4000"
   ]
  },
  {
   "cell_type": "code",
   "execution_count": 51,
   "id": "38f145ba",
   "metadata": {},
   "outputs": [
    {
     "data": {
      "text/plain": [
       "4000"
      ]
     },
     "execution_count": 51,
     "metadata": {},
     "output_type": "execute_result"
    }
   ],
   "source": [
    "pw.course_price"
   ]
  },
  {
   "cell_type": "code",
   "execution_count": 52,
   "id": "7bb74bef",
   "metadata": {},
   "outputs": [
    {
     "data": {
      "text/plain": [
       "4000"
      ]
     },
     "execution_count": 52,
     "metadata": {},
     "output_type": "execute_result"
    }
   ],
   "source": [
    "pw.course_price"
   ]
  },
  {
   "cell_type": "markdown",
   "id": "afd5f37f",
   "metadata": {},
   "source": [
    "Q5.What is method overriding in python? Write a python code to demonstrate method overriding.\n"
   ]
  },
  {
   "cell_type": "code",
   "execution_count": 54,
   "id": "b0db7313",
   "metadata": {},
   "outputs": [],
   "source": [
    "class Animal:\n",
    "     def make_sound(self):\n",
    "        print(\"the animal make a sound \")\n",
    "\n",
    "class dog(Animal):\n",
    "    def make_sound(self):\n",
    "        print(\"the dog barks \")"
   ]
  },
  {
   "cell_type": "code",
   "execution_count": 55,
   "id": "215b83c7",
   "metadata": {},
   "outputs": [],
   "source": [
    "dog = dog()"
   ]
  },
  {
   "cell_type": "code",
   "execution_count": 56,
   "id": "f4dccf30",
   "metadata": {},
   "outputs": [
    {
     "name": "stdout",
     "output_type": "stream",
     "text": [
      "the dog barks \n"
     ]
    }
   ],
   "source": [
    "dog.make_sound()"
   ]
  },
  {
   "cell_type": "code",
   "execution_count": null,
   "id": "d7e1e4f3",
   "metadata": {},
   "outputs": [],
   "source": []
  }
 ],
 "metadata": {
  "kernelspec": {
   "display_name": "Python 3 (ipykernel)",
   "language": "python",
   "name": "python3"
  },
  "language_info": {
   "codemirror_mode": {
    "name": "ipython",
    "version": 3
   },
   "file_extension": ".py",
   "mimetype": "text/x-python",
   "name": "python",
   "nbconvert_exporter": "python",
   "pygments_lexer": "ipython3",
   "version": "3.9.13"
  }
 },
 "nbformat": 4,
 "nbformat_minor": 5
}
