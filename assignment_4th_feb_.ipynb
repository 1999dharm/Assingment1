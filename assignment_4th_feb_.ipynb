{
  "nbformat": 4,
  "nbformat_minor": 0,
  "metadata": {
    "colab": {
      "provenance": []
    },
    "kernelspec": {
      "name": "python3",
      "display_name": "Python 3"
    },
    "language_info": {
      "name": "python"
    }
  },
  "cells": [
    {
      "cell_type": "code",
      "source": [
        "#Q1. Create a python program to sort the given list of tuples based on integer value using a\n",
        "#lambda function.\n",
        "#[('Sachin Tendulkar', 34357), ('Ricky Ponting', 27483), ('Jack Kallis', 25534), ('Virat Kohli', 24936)]"
      ],
      "metadata": {
        "id": "HiP6iOGQCrc1"
      },
      "execution_count": 11,
      "outputs": []
    },
    {
      "cell_type": "code",
      "source": [
        "tuples = [('Sachin Tendulkar', 34357), ('Ricky Ponting', 27483), ('Jack Kallis', 25534), ('Virat Kohli', 24936)]\n",
        "sorted_tuples = sorted(tuples, key=lambda x: x[1])\n",
        "\n",
        "print(sorted_tuples)"
      ],
      "metadata": {
        "colab": {
          "base_uri": "https://localhost:8080/"
        },
        "id": "PF_FIjYTETvz",
        "outputId": "a3f016e2-9ac4-4abd-e7a9-e69ff20072cb"
      },
      "execution_count": 12,
      "outputs": [
        {
          "output_type": "stream",
          "name": "stdout",
          "text": [
            "[('Virat Kohli', 24936), ('Jack Kallis', 25534), ('Ricky Ponting', 27483), ('Sachin Tendulkar', 34357)]\n"
          ]
        }
      ]
    },
    {
      "cell_type": "code",
      "source": [
        "#Q:2 Write a Python Program to find the squares of all the numbers in the given list of integers using\n",
        "#lambda and map functions."
      ],
      "metadata": {
        "id": "7fmAtMJICre-"
      },
      "execution_count": 13,
      "outputs": []
    },
    {
      "cell_type": "code",
      "source": [
        "numbers = [1, 2, 3, 4, 5]\n",
        "squared_numbers = list(map(lambda x: x**2, numbers))\n",
        "print(squared_numbers)"
      ],
      "metadata": {
        "colab": {
          "base_uri": "https://localhost:8080/"
        },
        "id": "C9t5D506Crhc",
        "outputId": "c3f03d90-531e-4758-f89f-91aec6726c24"
      },
      "execution_count": 14,
      "outputs": [
        {
          "output_type": "stream",
          "name": "stdout",
          "text": [
            "[1, 4, 9, 16, 25]\n"
          ]
        }
      ]
    },
    {
      "cell_type": "code",
      "source": [
        "#Q:3 Write a python program to convert the given list of integers into a tuple of strings. Use map and\n",
        "#lambda functions\n",
        "#Given String: [1, 2, 3, 4, 5, 6, 7, 8, 9, 10]\n",
        "#Expected output: ('1', '2', '3', '4', '5', '6', '7', '8', '9', '10')"
      ],
      "metadata": {
        "id": "inzTSS66Crjf"
      },
      "execution_count": 3,
      "outputs": []
    },
    {
      "cell_type": "code",
      "source": [
        "given_list = [1, 2, 3, 4, 5, 6, 7, 8, 9, 10]\n",
        "result = tuple(map(lambda x: str(x), given_list))\n",
        "print(result)\n"
      ],
      "metadata": {
        "colab": {
          "base_uri": "https://localhost:8080/"
        },
        "id": "z7hhsptdG_Lw",
        "outputId": "61a1031c-652a-4d1d-94e3-1f83ce9fb0af"
      },
      "execution_count": 4,
      "outputs": [
        {
          "output_type": "stream",
          "name": "stdout",
          "text": [
            "('1', '2', '3', '4', '5', '6', '7', '8', '9', '10')\n"
          ]
        }
      ]
    },
    {
      "cell_type": "code",
      "source": [
        "#Q:4 Write a python program using reduce function to compute the product of a list containing numbers\n",
        "#from 1 to 25."
      ],
      "metadata": {
        "id": "96HemiQTCroC"
      },
      "execution_count": 5,
      "outputs": []
    },
    {
      "cell_type": "code",
      "source": [
        "from functools import reduce\n",
        "\n",
        "given_list = [i for i in range(1, 25)]\n",
        "result = reduce(lambda x, y: x*y, given_list)\n",
        "print(result)"
      ],
      "metadata": {
        "id": "ryJ6pAvBCrqY",
        "colab": {
          "base_uri": "https://localhost:8080/"
        },
        "outputId": "40960451-128c-43f8-92b5-dd4c2ffc02c8"
      },
      "execution_count": 6,
      "outputs": [
        {
          "output_type": "stream",
          "name": "stdout",
          "text": [
            "620448401733239439360000\n"
          ]
        }
      ]
    },
    {
      "cell_type": "code",
      "source": [
        "#0:5 Write a python program to filter the numbers in a given list that are divisible by 2 and 3 using the\n",
        "#filter function.\n",
        "#[2, 3, 6, 9, 27, 60, 90, 120, 55, 46]"
      ],
      "metadata": {
        "id": "2j9JMua-Ic5-"
      },
      "execution_count": 7,
      "outputs": []
    },
    {
      "cell_type": "code",
      "source": [
        "def divisible_by_2_and_3(num):\n",
        "    if num % 2 == 0 and num % 3 == 0:\n",
        "        return True\n",
        "    else:\n",
        "        return False\n",
        "\n",
        "numbers = [2, 3, 6, 9, 27, 60, 90, 120, 55, 46]\n",
        "filtered_numbers = list(filter(divisible_by_2_and_3, numbers))\n",
        "\n",
        "print(\"Numbers in the list that are divisible by 2 and 3: \", filtered_numbers)"
      ],
      "metadata": {
        "id": "Fa5DUd2pIy4p",
        "colab": {
          "base_uri": "https://localhost:8080/"
        },
        "outputId": "0aa66acc-7812-4a35-889b-86335d40a123"
      },
      "execution_count": 8,
      "outputs": [
        {
          "output_type": "stream",
          "name": "stdout",
          "text": [
            "Numbers in the list that are divisible by 2 and 3:  [6, 60, 90, 120]\n"
          ]
        }
      ]
    },
    {
      "cell_type": "code",
      "source": [
        "#Q:6 Write a python program to find palindromes in the given list of strings using lambda and filter\n",
        "#function.\n",
        "#['python', 'php', 'aba', 'radar', 'level']"
      ],
      "metadata": {
        "id": "hhs3clIlR6Py"
      },
      "execution_count": 15,
      "outputs": []
    },
    {
      "cell_type": "code",
      "source": [
        "strings = ['python', 'php', 'aba', 'radar', 'level']\n",
        "is_palindrome =  lambda x: x == x[::-1]\n",
        "filtered_strings = list(filter(is_palindrome, strings))\n",
        "\n",
        "print(\"Palindromes in the given list of strings: \", filtered_strings)"
      ],
      "metadata": {
        "id": "arzFnsZmIy7V",
        "colab": {
          "base_uri": "https://localhost:8080/"
        },
        "outputId": "9941ed89-9fc9-4d0c-9563-c76d70a179a5"
      },
      "execution_count": 17,
      "outputs": [
        {
          "output_type": "stream",
          "name": "stdout",
          "text": [
            "Palindromes in the given list of strings:  ['php', 'aba', 'radar', 'level']\n"
          ]
        }
      ]
    }
  ]
}