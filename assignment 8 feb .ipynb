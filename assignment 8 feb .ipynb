{
 "cells": [
  {
   "cell_type": "markdown",
   "id": "9709be83-3567-4db2-b133-4be6f1cc912c",
   "metadata": {},
   "source": [
    "                                                                     ASSIGNMENT 8 FEB     \n",
    "                                                                        "
   ]
  },
  {
   "cell_type": "markdown",
   "id": "75e168bb-b5ed-46aa-92d7-fd81e98e4a2a",
   "metadata": {},
   "source": [
    "Q1. What is Abstraction in OOps? Explain with an example.\n",
    "\n",
    "Ans1.Abstraction in Object Oriented Programming (OOPs) refers to the process of hiding complex implementation details and showcasing only the necessary information. This is achieved by defining objects and classes with specific characteristics, properties, and behaviors. The goal of abstraction is to simplify complex systems and make it easier for users to interact with the software.\n",
    "\n",
    "For example, consider a car. A car has properties such as make, model, color, and year. It also has behaviors such as driving, stopping, and accelerating. When designing a car object, the designer can choose to hide the details of the engine, transmission, and other complex systems, and instead only expose the properties and behaviors that are necessary for the user to interact with the car. In this way, the designer has abstracted away the complex inner workings of the car and made it easier for the user to interact with the car.\n",
    "\n",
    "\n",
    "\n"
   ]
  },
  {
   "cell_type": "code",
   "execution_count": 108,
   "id": "e77a7e3c-3bd2-42df-b602-a1e447aed8e1",
   "metadata": {},
   "outputs": [],
   "source": [
    "class car :\n",
    "\n",
    "    def __init__(self ,  name , color , year , speed):\n",
    "        self.__name = name \n",
    "        self.__color = color\n",
    "        self.__year = year\n",
    "        self.speed = 0\n",
    "        \n",
    "    def set_speed(self , speed):\n",
    "         self.__speed = 0 if speed < 0 else speed\n",
    "        \n",
    "    def get_speed(self):\n",
    "        return self.__speed"
   ]
  },
  {
   "cell_type": "code",
   "execution_count": 109,
   "id": "34d3c255-1367-46fd-a888-ad7fea3ed6f8",
   "metadata": {},
   "outputs": [],
   "source": [
    "c = car(\"thar\" , \"read\" , 2023 , 25)"
   ]
  },
  {
   "cell_type": "code",
   "execution_count": 110,
   "id": "39835cdc-6eb3-453b-96ff-14c57b61ff97",
   "metadata": {},
   "outputs": [],
   "source": [
    "c.set_speed(34)"
   ]
  },
  {
   "cell_type": "code",
   "execution_count": 111,
   "id": "2ad1719e-da24-4b21-9a97-ebf28706d537",
   "metadata": {},
   "outputs": [
    {
     "data": {
      "text/plain": [
       "34"
      ]
     },
     "execution_count": 111,
     "metadata": {},
     "output_type": "execute_result"
    }
   ],
   "source": [
    "c.get_speed()"
   ]
  },
  {
   "cell_type": "code",
   "execution_count": 114,
   "id": "5b66ae97-4555-467e-a691-a2eac9c016ee",
   "metadata": {},
   "outputs": [
    {
     "data": {
      "text/plain": [
       "'read'"
      ]
     },
     "execution_count": 114,
     "metadata": {},
     "output_type": "execute_result"
    }
   ],
   "source": [
    "c._car__color"
   ]
  },
  {
   "cell_type": "code",
   "execution_count": 116,
   "id": "0344c639-180b-4c4f-ad06-78f756d9d072",
   "metadata": {},
   "outputs": [
    {
     "data": {
      "text/plain": [
       "2023"
      ]
     },
     "execution_count": 116,
     "metadata": {},
     "output_type": "execute_result"
    }
   ],
   "source": [
    "c._car__year"
   ]
  },
  {
   "cell_type": "markdown",
   "id": "dc28ad89-5d35-405f-8d79-3f412a1fcc67",
   "metadata": {},
   "source": [
    "Abstraction in Object Oriented Programming (OOPs) refers to the process of hiding complex implementation details and showcasing only the necessary information. This is achieved by defining objects and classes with specific characteristics, properties, and behaviors. The goal of abstraction is to simplify complex systems and make it easier for users to interact with the software.\n",
    "\n",
    "For example, consider a car. A car has properties such as make, model, color, and year. It also has behaviors such as driving, stopping, and accelerating. When designing a car object, the designer can choose to hide the details of the engine, transmission, and other complex systems, and instead only expose the properties and behaviors that are necessary for the user to interact with the car. In this way, the designer has abstracted away the complex inner workings of the car and made it easier for the user to interact with the car.\n",
    "\n",
    "\n",
    "\n"
   ]
  },
  {
   "cell_type": "markdown",
   "id": "615383d7-c87f-48eb-ab08-198fc1e13bca",
   "metadata": {},
   "source": [
    "Q2. Differentiate between Abstraction and Encapsulation. Explain with an example.\n",
    "\n",
    "Ans2.\n",
    "Abstraction and encapsulation are two fundamental concepts in object-oriented programming (OOP). Although they are often used interchangeably, they are different concepts.\n",
    "\n",
    "Abstraction is the process of hiding the implementation details of a class and exposing only the necessary information to the user. It's a way of representing the essential features without including the background details or implementation. The main idea behind abstraction is to simplify the complexity of the code and to focus on what the object does, rather than how it does it.\n",
    "\n",
    "Encapsulation, on the other hand, is the technique of wrapping the data (variables) and the code that manipulates the data (methods) inside a single unit or object. Encapsulation provides a way to hide the internal state of an object from the outside world, making it accessible only through the methods defined by the object's class. This helps to ensure data security and prevent unintended modification.\n",
    "\n",
    "For example, consider a bank account class that has a deposit() method and a withdrawal() method. The implementation details of how the deposit and withdrawal operations are performed could be complex, but the user of the bank account class doesn't need to know these details. The abstraction provided by the deposit() and withdrawal() methods allows the user to perform these operations by simply calling these methods, without worrying about the implementation details.\n",
    "\n",
    "Encapsulation is used to protect the internal state of the bank account class from being modified directly by the user. The variables that represent the account balance, for example, are private and can only be modified by the deposit() and withdrawal() methods. This helps to ensure the integrity of the data and prevents unintended modification.\n",
    "class bank_acount:"
   ]
  },
  {
   "cell_type": "code",
   "execution_count": 50,
   "id": "9a5a642b-3b7c-45d3-b908-e05ee3ef2012",
   "metadata": {},
   "outputs": [],
   "source": [
    " \n",
    "    def __init__(self , balance):\n",
    "        self._balance = balance\n",
    "        \n",
    "        \n",
    "    def depsoit(self, amount):\n",
    "        self._balance = self._balance + amount\n",
    "        \n",
    "    def withdra(self, amount):\n",
    "        if  self._balance >= amount:\n",
    "            self._balance = self._balance - amount\n",
    "            return True\n",
    "        else:\n",
    "            False\n",
    "            \n",
    "    def get_balance(self):\n",
    "        return self._balance\n",
    "    "
   ]
  },
  {
   "cell_type": "markdown",
   "id": "19627ba1-4ff2-4792-8460-b414c4ac88a7",
   "metadata": {},
   "source": [
    "In this example, the abstraction provided by the deposit() and withdrawal() methods allows the user to perform these operations without worrying about the implementation details, while encapsulation helps to protect the internal state of the bank account class from being modified directly by the user."
   ]
  },
  {
   "cell_type": "code",
   "execution_count": 47,
   "id": "29498c4f-6a4e-4185-a47f-bdb55ae6a3d8",
   "metadata": {},
   "outputs": [],
   "source": [
    "dharm = bank_acount(1000)"
   ]
  },
  {
   "cell_type": "code",
   "execution_count": 41,
   "id": "2e2608d0-8ca2-4d54-a52e-7e0e2ce6c4b9",
   "metadata": {},
   "outputs": [
    {
     "data": {
      "text/plain": [
       "1000"
      ]
     },
     "execution_count": 41,
     "metadata": {},
     "output_type": "execute_result"
    }
   ],
   "source": [
    "dharm.get_balance()"
   ]
  },
  {
   "cell_type": "code",
   "execution_count": 42,
   "id": "07310bf4-ace9-41ae-872b-11d5d46c2beb",
   "metadata": {},
   "outputs": [],
   "source": [
    "dharm.depsoit(100000)"
   ]
  },
  {
   "cell_type": "code",
   "execution_count": 43,
   "id": "ad96dce9-7ae2-43b4-b001-39b4468fee73",
   "metadata": {},
   "outputs": [
    {
     "data": {
      "text/plain": [
       "101000"
      ]
     },
     "execution_count": 43,
     "metadata": {},
     "output_type": "execute_result"
    }
   ],
   "source": [
    "dharm.get_balance()"
   ]
  },
  {
   "cell_type": "code",
   "execution_count": 44,
   "id": "7595a701-bb73-43b3-a73d-5dd001d5c6f5",
   "metadata": {},
   "outputs": [
    {
     "data": {
      "text/plain": [
       "True"
      ]
     },
     "execution_count": 44,
     "metadata": {},
     "output_type": "execute_result"
    }
   ],
   "source": [
    "dharm.withdra(20000)"
   ]
  },
  {
   "cell_type": "code",
   "execution_count": 45,
   "id": "a03e498f-edd7-46b6-9174-425b84c536b3",
   "metadata": {},
   "outputs": [
    {
     "data": {
      "text/plain": [
       "81000"
      ]
     },
     "execution_count": 45,
     "metadata": {},
     "output_type": "execute_result"
    }
   ],
   "source": [
    "dharm.get_balance()"
   ]
  },
  {
   "cell_type": "markdown",
   "id": "a42fe450-f2d7-45b7-b553-c45379ddb7dd",
   "metadata": {},
   "source": [
    "Q3. What is abc module in python? Why is it used?\n",
    "\n",
    "Ans3\n",
    " No, you cannot create an instance of an abstract class. An abstract class is a class that is intended to be used as a base class for one or more derived classes, and cannot be instantiated on its own.\n",
    "\n",
    "The purpose of an abstract class is to provide a common interface for a set of related classes, and to enforce the implementation of certain methods in the derived classes. An abstract class is not meant to be used as a standalone class, but rather as a blueprint for creating concrete subclasses that provide specific implementations.\n",
    "\n",
    "If you try to create an instance of an abstract class, you will get a TypeError indicating that the abstract class cannot be instantiated. In order to use an abstract class, you must create a derived class that implements all of the abstract methods defined by the abstract class, and then create an instance of the derived class.\n",
    "\n",
    "Here's an example in Python"
   ]
  },
  {
   "cell_type": "code",
   "execution_count": 62,
   "id": "1636051a-d943-4fa1-9f32-52bc93674de7",
   "metadata": {},
   "outputs": [],
   "source": [
    "import abc\n",
    "\n",
    "class shape:\n",
    "    \n",
    "    def area(self):\n",
    "        pass\n",
    "    \n",
    "    def parameter(self):\n",
    "        pass\n",
    "\n",
    "class Rectangle(shape):\n",
    "    \n",
    "    def __init__(self , width, height):\n",
    "        self.width = width\n",
    "        self.height = height\n",
    "    \n",
    "    \n",
    "    def area(self):\n",
    "        return self.width * self.height\n",
    "    \n",
    "    def parameter(self):\n",
    "         return 2 * self.width + self.height\n",
    "        \n",
    "        \n",
    "\n"
   ]
  },
  {
   "cell_type": "code",
   "execution_count": 63,
   "id": "a189c060-a838-4811-b2d4-3a11c1c9afc8",
   "metadata": {},
   "outputs": [],
   "source": [
    "rect = Rectangle(28, 57)"
   ]
  },
  {
   "cell_type": "code",
   "execution_count": 64,
   "id": "1f4e7b61-5d4f-409b-a5ca-54f8ccaac923",
   "metadata": {},
   "outputs": [
    {
     "data": {
      "text/plain": [
       "1596"
      ]
     },
     "execution_count": 64,
     "metadata": {},
     "output_type": "execute_result"
    }
   ],
   "source": [
    "rect.area()"
   ]
  },
  {
   "cell_type": "code",
   "execution_count": 67,
   "id": "e098e8e4-859d-4207-9d04-2bd70e7639e1",
   "metadata": {},
   "outputs": [
    {
     "data": {
      "text/plain": [
       "28"
      ]
     },
     "execution_count": 67,
     "metadata": {},
     "output_type": "execute_result"
    }
   ],
   "source": [
    "rect.width"
   ]
  },
  {
   "cell_type": "code",
   "execution_count": 69,
   "id": "2d5353a5-cf63-44e3-8322-5608deae51ac",
   "metadata": {},
   "outputs": [
    {
     "data": {
      "text/plain": [
       "113"
      ]
     },
     "execution_count": 69,
     "metadata": {},
     "output_type": "execute_result"
    }
   ],
   "source": [
    "rect.parameter()"
   ]
  },
  {
   "cell_type": "code",
   "execution_count": 70,
   "id": "2e1de070-f656-4d5a-a20f-98f4066f15ea",
   "metadata": {},
   "outputs": [
    {
     "data": {
      "text/plain": [
       "57"
      ]
     },
     "execution_count": 70,
     "metadata": {},
     "output_type": "execute_result"
    }
   ],
   "source": [
    "rect.height"
   ]
  },
  {
   "cell_type": "markdown",
   "id": "d2e4ce5c-899b-4396-9dd3-df8d6c4ea861",
   "metadata": {},
   "source": [
    "In this example, the Shape class is defined as an abstract class, with two abstract methods, area and perimeter. The Rectangle class is a derived class of Shape, and provides implementations for the area and perimeter methods. An instance of the Rectangle class can be created, as it has implemented all of the abstract methods of the\n",
    "\n",
    "\n",
    "\n"
   ]
  },
  {
   "cell_type": "markdown",
   "id": "324bf537-34df-4f2f-8f2d-5d412be85185",
   "metadata": {},
   "source": [
    "Q4. How can we achieve data abstraction?"
   ]
  },
  {
   "cell_type": "markdown",
   "id": "b03b743a-8e7e-4956-9cef-bcfdba8c94ff",
   "metadata": {},
   "source": [
    "\n",
    "\n",
    "\n",
    "Ans4. Data abstraction is a technique of hiding the implementation details of a class and exposing only the necessary information to the user. The main idea behind data abstraction is to simplify the complexity of the code and to focus on what the data represents, rather than how it is stored or manipulated.\n",
    "\n",
    "There are several ways to achieve data abstraction in object-oriented programming:\n",
    "\n",
    "Encapsulation: Encapsulation is the technique of wrapping the data (variables) and the code that manipulates the data (methods) inside a single unit or object. Encapsulation provides a way to hide the internal state of an object from the outside world, making it accessible only through the methods defined by the object's class. This helps to ensure data security and prevent unintended modification.\n",
    "\n",
    "Access Modifiers: Access modifiers such as private, protected, and public can be used to control access to the data and methods of a class. For example, a private data member can only be accessed within the class, while a public data member can be accessed from anywhere. Access modifiers are used to define the level of visibility of the data and methods, and to enforce data abstraction.\n",
    "\n",
    "Getters and Setters: Getters and setters are special methods that are used to get and set the value of a data member, respectively. They can be used to control access to the data and to enforce data abstraction.\n",
    "\n",
    "Interfaces: Interfaces are used to define a common set of methods that must be implemented by a class. Interfaces provide a way to define the behavior that a class must have, without specifying the implementation details. They are used to enforce data abstraction by defining a common interface for a set of classes.\n",
    "\n",
    "Abstract Classes: Abstract classes are classes that cannot be instantiated and are intended to be used as a base class for one or more derived classes. Abstract classes are used to specify a common interface for a set of derived classes, and to ensure that the derived classes implement certain methods.\n",
    "\n",
    "By using these techniques, data abstraction can be achieved in object-oriented programming, allowing the user to focus on what the data represents, rather than how it is stored or manipulated.\n",
    "\n",
    "\n",
    "\n",
    "\n",
    "\n",
    "\n",
    "\n"
   ]
  },
  {
   "cell_type": "markdown",
   "id": "0f41910a-8685-42ee-9356-09a2ea01a7fa",
   "metadata": {},
   "source": [
    "Q5. Can we create an instance of an abstract class? Explain your answer.\n",
    "\n",
    "Ans5.No, you cannot create an instance of an abstract class. An abstract class is a class that is meant to serve as a blueprint for other classes. It defines a common interface for its subclasses, but it cannot be instantiated on its own.\n",
    "\n",
    "Here is a simple example to illustrate this concept:"
   ]
  },
  {
   "cell_type": "code",
   "execution_count": 73,
   "id": "05727ab1-0c71-42a2-9adf-815aa746ad4b",
   "metadata": {},
   "outputs": [],
   "source": [
    "class Animal:\n",
    "    \n",
    "    def __init__(self , name):\n",
    "        self.name = name\n",
    "        \n",
    "    def make_sound(self):\n",
    "        pass\n",
    "    \n",
    "class dog(Animal):\n",
    "    def make_sound(self):\n",
    "        print(\" woof , woof!\")"
   ]
  },
  {
   "cell_type": "code",
   "execution_count": 76,
   "id": "b34cd071-8a25-46bc-a6c5-a85a4b44a7c4",
   "metadata": {},
   "outputs": [],
   "source": [
    "dog = dog(\"judo\")"
   ]
  },
  {
   "cell_type": "code",
   "execution_count": 77,
   "id": "9f1a535b-2cbc-4b45-b00a-64e04dd6f9be",
   "metadata": {},
   "outputs": [
    {
     "data": {
      "text/plain": [
       "'judo'"
      ]
     },
     "execution_count": 77,
     "metadata": {},
     "output_type": "execute_result"
    }
   ],
   "source": [
    "dog.name"
   ]
  },
  {
   "cell_type": "code",
   "execution_count": 79,
   "id": "1dfad916-de77-4579-bb1e-5f8392f451c0",
   "metadata": {},
   "outputs": [
    {
     "name": "stdout",
     "output_type": "stream",
     "text": [
      " woof , woof!\n"
     ]
    }
   ],
   "source": [
    "dog.make_sound()"
   ]
  },
  {
   "cell_type": "code",
   "execution_count": null,
   "id": "563963a5-f431-4307-bdef-f216bd9b5ddc",
   "metadata": {},
   "outputs": [],
   "source": [
    "In this example, the Animal class is defined as an abstract class, which serves as a blueprint for other classes. It has an abstract method make_sound, which must be implemented by any concrete class that inherits from Animal. The Dog class is a concrete class that inherits from Animal and provides an implementation for the make_sound method. An instance of the Dog class can be created, as it has provided an implementation for all of the abstract methods defined in the abstract class. However, it does not make sense to create an instance of the abstract class Animal, as it is not a complete class on its own and cannot be used without being subclassed.\n"
   ]
  }
 ],
 "metadata": {
  "kernelspec": {
   "display_name": "Python 3 (ipykernel)",
   "language": "python",
   "name": "python3"
  },
  "language_info": {
   "codemirror_mode": {
    "name": "ipython",
    "version": 3
   },
   "file_extension": ".py",
   "mimetype": "text/x-python",
   "name": "python",
   "nbconvert_exporter": "python",
   "pygments_lexer": "ipython3",
   "version": "3.10.6"
  }
 },
 "nbformat": 4,
 "nbformat_minor": 5
}
