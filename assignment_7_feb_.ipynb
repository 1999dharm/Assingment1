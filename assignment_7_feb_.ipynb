{
  "nbformat": 4,
  "nbformat_minor": 0,
  "metadata": {
    "colab": {
      "provenance": []
    },
    "kernelspec": {
      "name": "python3",
      "display_name": "Python 3"
    },
    "language_info": {
      "name": "python"
    }
  },
  "cells": [
    {
      "cell_type": "code",
      "source": [
        "# Q 1,ans 1 import re\n",
        "\n",
        "def check_password(password):\n",
        "    if len(password) != 10:\n",
        "        return \"Invalid Password\"\n",
        "    elif not (re.search(\"[a-z]\", password) and re.search(\"[A-Z]\", password)):\n",
        "        return \"Invalid Password\"\n",
        "    elif not (re.search(\"[0-9]\", password)):\n",
        "        return \"Invalid Password\"\n",
        "    elif len(re.findall(\"[!@#$%^&*]\", password)) < 3:\n",
        "        return \"Invalid Password\"\n",
        "    else:\n",
        "        return \"Valid Password\"\n",
        "\n",
        "password = \"Abcd12#@!\"\n",
        "result = check_password(password)\n",
        "print(result)"
      ],
      "metadata": {
        "colab": {
          "base_uri": "https://localhost:8080/"
        },
        "id": "svRXFa3KTJKY",
        "outputId": "b8779551-2135-4b85-fec6-2a9601436c87"
      },
      "execution_count": null,
      "outputs": [
        {
          "output_type": "stream",
          "name": "stdout",
          "text": [
            "Invalid Password\n"
          ]
        }
      ]
    },
    {
      "cell_type": "code",
      "source": [
        "#Q2 ans,1 Check if the string starts with a particular letter\n",
        "\n",
        "string = \"Hello world \"\n",
        "check_letter = \"H\"\n",
        "print(check_letter)"
      ],
      "metadata": {
        "colab": {
          "base_uri": "https://localhost:8080/"
        },
        "id": "Mc7nN0vrM3vh",
        "outputId": "2a7c1768-6664-4a09-8de7-d8f925e1cd44"
      },
      "execution_count": null,
      "outputs": [
        {
          "output_type": "stream",
          "name": "stdout",
          "text": [
            "H\n"
          ]
        }
      ]
    },
    {
      "cell_type": "code",
      "source": [
        "# 2 Check if the string is numeric:\n",
        "string  = \"123456\"\n",
        "print(string.isdigit())"
      ],
      "metadata": {
        "colab": {
          "base_uri": "https://localhost:8080/"
        },
        "id": "BUebEu99ODuU",
        "outputId": "302b7fd9-4b55-411e-8fae-c2b6712aa51c"
      },
      "execution_count": null,
      "outputs": [
        {
          "output_type": "stream",
          "name": "stdout",
          "text": [
            "True\n"
          ]
        }
      ]
    },
    {
      "cell_type": "code",
      "source": [
        "string"
      ],
      "metadata": {
        "colab": {
          "base_uri": "https://localhost:8080/",
          "height": 35
        },
        "id": "SbTPslIzODxG",
        "outputId": "47dcb0ab-d4e8-4af8-b0f8-428182c0b24d"
      },
      "execution_count": null,
      "outputs": [
        {
          "output_type": "execute_result",
          "data": {
            "text/plain": [
              "'123456'"
            ],
            "application/vnd.google.colaboratory.intrinsic+json": {
              "type": "string"
            }
          },
          "metadata": {},
          "execution_count": 5
        }
      ]
    },
    {
      "cell_type": "code",
      "source": [
        "# 3 Sort a list of tuples having fruit names and their quantity:\n",
        "fruits = [(\"mango\",99),(\"orange\",80),(\"grapes\",1000)]\n",
        "fruits.sort(key = lambda x: x[1])\n",
        "print(fruits)\n"
      ],
      "metadata": {
        "colab": {
          "base_uri": "https://localhost:8080/"
        },
        "id": "1dTpMVovODzh",
        "outputId": "1efc4dce-b996-40b8-d0a0-d25337f13c95"
      },
      "execution_count": null,
      "outputs": [
        {
          "output_type": "stream",
          "name": "stdout",
          "text": [
            "[('orange', 80), ('mango', 99), ('grapes', 1000)]\n"
          ]
        }
      ]
    },
    {
      "cell_type": "code",
      "source": [
        "# 4  Find the squares of numbers from 1 to 10:\n",
        "\n",
        "numbers = [1,2,3,4,5,6,7,8,9,10]\n",
        "square_number = list(map(lambda x : x**2,numbers))\n",
        "print(square_number)\n"
      ],
      "metadata": {
        "colab": {
          "base_uri": "https://localhost:8080/"
        },
        "id": "gLpvyNOwOD12",
        "outputId": "bfe0a24c-cf30-47a2-8fa8-97286618d97a"
      },
      "execution_count": null,
      "outputs": [
        {
          "output_type": "stream",
          "name": "stdout",
          "text": [
            "[1, 4, 9, 16, 25, 36, 49, 64, 81, 100]\n"
          ]
        }
      ]
    },
    {
      "cell_type": "code",
      "source": [
        "# 5 Find the cube root of numbers from 1 to 10:\n",
        "import math\n",
        "numbers = [1,2,3,4,5,6,7,8,9,10]\n",
        "cuberoot_numbers = list(map(lambda x: math.pow(x, 1/3), numbers))\n",
        "print(cuberoot_numbers)"
      ],
      "metadata": {
        "colab": {
          "base_uri": "https://localhost:8080/"
        },
        "id": "IDJvRz3kOD3-",
        "outputId": "99faa7d7-1ef6-49e3-9403-954241d42e39"
      },
      "execution_count": null,
      "outputs": [
        {
          "output_type": "stream",
          "name": "stdout",
          "text": [
            "[1.0, 1.2599210498948732, 1.4422495703074083, 1.5874010519681994, 1.7099759466766968, 1.8171205928321397, 1.912931182772389, 2.0, 2.080083823051904, 2.154434690031884]\n"
          ]
        }
      ]
    },
    {
      "cell_type": "code",
      "source": [
        "# 6 Check if a given number is even:\n",
        "\n",
        "number = 4\n",
        "even = filter(lambda x: x % 2 == 0, [number])\n",
        "result = True if any(even) else False\n",
        "print(result) "
      ],
      "metadata": {
        "colab": {
          "base_uri": "https://localhost:8080/"
        },
        "id": "Ur7v5Js4OD6S",
        "outputId": "72172536-2e88-4fff-8d3f-16fb147db577"
      },
      "execution_count": null,
      "outputs": [
        {
          "output_type": "stream",
          "name": "stdout",
          "text": [
            "True\n"
          ]
        }
      ]
    },
    {
      "cell_type": "code",
      "source": [
        "# 7 Filter odd numbers from the given list.\n",
        "#[1,2,3,4,5,6,7,8,9,10]\n",
        "\n",
        "numbers = [1,2,3,4,5,6,7,8,9,10]\n",
        "odd_numbers = list(filter(lambda x: x % 2 != 0, numbers))\n",
        "print(odd_numbers) "
      ],
      "metadata": {
        "colab": {
          "base_uri": "https://localhost:8080/"
        },
        "id": "E4Zls-JyOD9C",
        "outputId": "1807eb62-1722-488e-8157-bc3bbe1fbe1a"
      },
      "execution_count": null,
      "outputs": [
        {
          "output_type": "stream",
          "name": "stdout",
          "text": [
            "[1, 3, 5, 7, 9]\n"
          ]
        }
      ]
    },
    {
      "cell_type": "code",
      "source": [
        "# 8 Sort a list of integers into positive and negative integers lists.\n",
        "#[1,2,3,4,5,6,-1,-2,-3,-4,-5,0]\n",
        "\n",
        "numbers = [1,2,3,4,5,6,-1,-2,-3,-4,-5,0]\n",
        "positive_numbers = list(filter(lambda x: x > 0, numbers))\n",
        "negative_numbers = list(filter(lambda x: x < 0, numbers))\n",
        "print(positive_numbers)\n",
        "print(negative_numbers)"
      ],
      "metadata": {
        "colab": {
          "base_uri": "https://localhost:8080/"
        },
        "id": "NnF-GoDYOEAv",
        "outputId": "22602018-d676-4253-a042-3830195ed3a1"
      },
      "execution_count": null,
      "outputs": [
        {
          "output_type": "stream",
          "name": "stdout",
          "text": [
            "[1, 2, 3, 4, 5, 6]\n",
            "[-1, -2, -3, -4, -5]\n"
          ]
        }
      ]
    },
    {
      "cell_type": "code",
      "source": [],
      "metadata": {
        "id": "u4_v0aABM3yE"
      },
      "execution_count": null,
      "outputs": []
    },
    {
      "cell_type": "code",
      "source": [],
      "metadata": {
        "id": "M6Gw-OcrM300"
      },
      "execution_count": null,
      "outputs": []
    },
    {
      "cell_type": "code",
      "source": [],
      "metadata": {
        "id": "bDzdvi8HM329"
      },
      "execution_count": null,
      "outputs": []
    },
    {
      "cell_type": "code",
      "source": [],
      "metadata": {
        "id": "d3Cco1lGM35G"
      },
      "execution_count": null,
      "outputs": []
    },
    {
      "cell_type": "code",
      "source": [],
      "metadata": {
        "id": "47bqfAefM37A"
      },
      "execution_count": null,
      "outputs": []
    },
    {
      "cell_type": "code",
      "source": [],
      "metadata": {
        "id": "YymUYsyiM39e"
      },
      "execution_count": null,
      "outputs": []
    },
    {
      "cell_type": "code",
      "source": [],
      "metadata": {
        "id": "g2FrL5D_M3_U"
      },
      "execution_count": null,
      "outputs": []
    }
  ]
}