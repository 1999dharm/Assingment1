{
  "nbformat": 4,
  "nbformat_minor": 0,
  "metadata": {
    "colab": {
      "provenance": []
    },
    "kernelspec": {
      "name": "python3",
      "display_name": "Python 3"
    },
    "language_info": {
      "name": "python"
    }
  },
  "cells": [
    {
      "cell_type": "code",
      "source": [
        "#Q1. Explain Class and Object with respect to Object-Oriented Programming. Give a suitable example."
      ],
      "metadata": {
        "id": "v30A0mXvjqSg"
      },
      "execution_count": null,
      "outputs": []
    },
    {
      "cell_type": "code",
      "source": [
        "#In Object-Oriented Programming (OOP), a class is a blueprint or template that defines the attributes and methods of a particular type of object. An object is an instance of a class and has its own state and behavior.\n",
        "\n",
        "#For example, consider a class Person, which has two attributes name and age, and a method introduce that returns a string introducing the person:\n",
        "class student:\n",
        "   def __init__(self, name , age ,):\n",
        "    self.name = name \n",
        "    self.age = age\n",
        "\n",
        "   def introduction(self):\n",
        "     return self.name , self.age \n",
        "# To create an object of the class Person, you can use the class constructor __init__, which is called when a new object is created:\n",
        "# Now, p is an object of class Person, with its own unique name and age. You can access its attributes and call its methods using the dot (.) operator:"
      ],
      "metadata": {
        "id": "3df-9kDtjqVX"
      },
      "execution_count": null,
      "outputs": []
    },
    {
      "cell_type": "code",
      "source": [
        "amit = student(\"ajay\", 20)"
      ],
      "metadata": {
        "id": "H5mKh6i6jqXK"
      },
      "execution_count": null,
      "outputs": []
    },
    {
      "cell_type": "code",
      "source": [
        "amit.introduction()"
      ],
      "metadata": {
        "colab": {
          "base_uri": "https://localhost:8080/"
        },
        "id": "4kh6kC1BjqZs",
        "outputId": "79bd1a08-df5b-4823-c2de-62b46e46f558"
      },
      "execution_count": null,
      "outputs": [
        {
          "output_type": "execute_result",
          "data": {
            "text/plain": [
              "('ajay', 20)"
            ]
          },
          "metadata": {},
          "execution_count": 5
        }
      ]
    },
    {
      "cell_type": "code",
      "source": [
        "#Q2. Name the four pillars of OOPs."
      ],
      "metadata": {
        "id": "yzpJIYpEjqcC"
      },
      "execution_count": null,
      "outputs": []
    },
    {
      "cell_type": "code",
      "source": [
        "#The four pillars of Object-Oriented Programming (OOP) are:\n",
        "#1.Abstraction: The process of hiding the implementation details and exposing only the necessary information to the user. This allows for a more user-friendly interface and simplified use of complex systems.\n",
        "#2. The process of wrapping data and functions within an object, making it self-contained and protected from outside access and modification. This helps to ensure the integrity of data and improve modularity.\n",
        "#3.Inheritance: The process of creating new classes that inherit attributes and behaviors from existing classes. This allows for code reuse and a hierarchical organization of classes.\n",
        "#4.Polymorphism: The ability of objects of different classes to be used interchangeably, as long as they share a common interface. This allows for flexible and dynamic behavior of objects based on their type."
      ],
      "metadata": {
        "id": "CRmlkLvC_NqW"
      },
      "execution_count": null,
      "outputs": []
    },
    {
      "cell_type": "code",
      "source": [
        "#Q3. Explain why the __init__() function is used. Give a suitable example."
      ],
      "metadata": {
        "id": "ay4wcRDT_NtM"
      },
      "execution_count": null,
      "outputs": []
    },
    {
      "cell_type": "code",
      "source": [
        "# he __init__ method, also known as the class constructor, is used in object-oriented programming (OOP) to initialize the state of an object when it is created. It is called automatically when a new instance of a class is created, and its purpose is to set up the initial state of the object.\n",
        "#For example, consider a class Person, which has two attributes name and age, and a method introduce that returns a string introducing the person:\n",
        "class person :\n",
        "  def __init__(self, name , id , age):\n",
        "    self.name = name \n",
        "    self.id = id \n",
        "    self.age = age\n",
        "\n",
        "  def introduce(self):\n",
        "    return self.name , self.id , self.age"
      ],
      "metadata": {
        "id": "tgi52RAg_Nvg"
      },
      "execution_count": null,
      "outputs": []
    },
    {
      "cell_type": "code",
      "source": [
        "hari = person(\"sumit\" , 232323 , 24)"
      ],
      "metadata": {
        "id": "5a0IkCf-_Nxi"
      },
      "execution_count": null,
      "outputs": []
    },
    {
      "cell_type": "code",
      "source": [
        "hari.introduce()"
      ],
      "metadata": {
        "colab": {
          "base_uri": "https://localhost:8080/"
        },
        "id": "-l-OHztt_N0M",
        "outputId": "6c9b77ce-1e48-4210-aa8d-9ca0ea8b31ad"
      },
      "execution_count": null,
      "outputs": [
        {
          "output_type": "execute_result",
          "data": {
            "text/plain": [
              "('sumit', 232323, 24)"
            ]
          },
          "metadata": {},
          "execution_count": 19
        }
      ]
    },
    {
      "cell_type": "code",
      "source": [
        "hari.name"
      ],
      "metadata": {
        "colab": {
          "base_uri": "https://localhost:8080/",
          "height": 35
        },
        "id": "eL4jTkjF_N2d",
        "outputId": "bcc72284-8737-4d22-d230-a98fea05eef7"
      },
      "execution_count": null,
      "outputs": [
        {
          "output_type": "execute_result",
          "data": {
            "text/plain": [
              "'sumit'"
            ],
            "application/vnd.google.colaboratory.intrinsic+json": {
              "type": "string"
            }
          },
          "metadata": {},
          "execution_count": 20
        }
      ]
    },
    {
      "cell_type": "code",
      "source": [
        "hari.id"
      ],
      "metadata": {
        "colab": {
          "base_uri": "https://localhost:8080/"
        },
        "id": "40LDeIzu_N4_",
        "outputId": "74f62d94-d3e5-46da-c748-b2d6e0aa1753"
      },
      "execution_count": null,
      "outputs": [
        {
          "output_type": "execute_result",
          "data": {
            "text/plain": [
              "232323"
            ]
          },
          "metadata": {},
          "execution_count": 21
        }
      ]
    },
    {
      "cell_type": "code",
      "source": [
        "hari.age"
      ],
      "metadata": {
        "colab": {
          "base_uri": "https://localhost:8080/"
        },
        "id": "kfmlewit_N7R",
        "outputId": "79056934-6104-45cc-f8fc-a582f9ab9ea8"
      },
      "execution_count": null,
      "outputs": [
        {
          "output_type": "execute_result",
          "data": {
            "text/plain": [
              "24"
            ]
          },
          "metadata": {},
          "execution_count": 22
        }
      ]
    },
    {
      "cell_type": "code",
      "source": [
        "#Q4. Why self is used in OOPs?"
      ],
      "metadata": {
        "id": "dwTfFkT7_N-y"
      },
      "execution_count": null,
      "outputs": []
    },
    {
      "cell_type": "code",
      "source": [
        "#The self keyword is used in object-oriented programming (OOP) to refer to the instance of an object itself within the object's methods. It is equivalent to the \"this\" keyword in some other OOP languages.\n",
        "#In Python, for example, the self parameter is used in class methods to refer to the instance of the object the method is being called on. For instance, if you have a class called Person with a method called introduce, you might use self to refer to the person object's name:\n",
        "class person:\n",
        "  def __init__(self , name , age ):\n",
        "    self.name = name\n",
        "    self.age = age\n",
        "\n",
        "  def introduce(self):\n",
        "    return \"hi my name is a\", self.name ,\"my age is a \", self.age\n",
        "     \n",
        "\n",
        "\n"
      ],
      "metadata": {
        "id": "UukrxNckESew"
      },
      "execution_count": null,
      "outputs": []
    },
    {
      "cell_type": "code",
      "source": [
        "vishal = person( 'sumit'  , 21)"
      ],
      "metadata": {
        "id": "D_MFIsreEShI"
      },
      "execution_count": null,
      "outputs": []
    },
    {
      "cell_type": "code",
      "source": [
        "vishal.introduce()"
      ],
      "metadata": {
        "colab": {
          "base_uri": "https://localhost:8080/"
        },
        "id": "NJ2T6FwFESjI",
        "outputId": "d22d1f80-0221-4dcb-f917-ba7b59f0694c"
      },
      "execution_count": null,
      "outputs": [
        {
          "output_type": "execute_result",
          "data": {
            "text/plain": [
              "('hi my name is a', 'sumit', 'my age is a ', 21)"
            ]
          },
          "metadata": {},
          "execution_count": 38
        }
      ]
    },
    {
      "cell_type": "code",
      "source": [
        "#By using self, the introduce method can access the name attribute of the Person object, even though the method is being called on a different object (p). This allows for each instance of a class to have its own unique state and behavior, which is a key aspect of OOP.\n"
      ],
      "metadata": {
        "id": "-w9e5wG2ESnS"
      },
      "execution_count": null,
      "outputs": []
    },
    {
      "cell_type": "code",
      "source": [
        "#Q5. What is inheritance? Give an example for each type of inheritance.\n",
        "class Animal:\n",
        "    def __init__(self, name, species):\n",
        "        self.name = name\n",
        "        self.species = species\n",
        "\n",
        "    def make_sound(self):\n",
        "       pass \n",
        "\n",
        "class dog(Animal):\n",
        "  def make_sound(self):\n",
        "    return \"woof!\"\n"
      ],
      "metadata": {
        "id": "lc65BvAOESpN"
      },
      "execution_count": null,
      "outputs": []
    },
    {
      "cell_type": "code",
      "source": [
        "dog = dog(\"Rufus\",\"Canis lupus familiaris\")\n"
      ],
      "metadata": {
        "id": "ATx38ulCESsy"
      },
      "execution_count": null,
      "outputs": []
    },
    {
      "cell_type": "code",
      "source": [
        "dog.name"
      ],
      "metadata": {
        "colab": {
          "base_uri": "https://localhost:8080/",
          "height": 35
        },
        "id": "Z8pgCiYjKqsR",
        "outputId": "2e022b8c-70d0-4a87-d173-71c19e331319"
      },
      "execution_count": null,
      "outputs": [
        {
          "output_type": "execute_result",
          "data": {
            "text/plain": [
              "'Rufus'"
            ],
            "application/vnd.google.colaboratory.intrinsic+json": {
              "type": "string"
            }
          },
          "metadata": {},
          "execution_count": 41
        }
      ]
    },
    {
      "cell_type": "code",
      "source": [
        "dog.species"
      ],
      "metadata": {
        "colab": {
          "base_uri": "https://localhost:8080/",
          "height": 35
        },
        "id": "Y2HhA6O4Kqus",
        "outputId": "eef18e47-8e7a-46bc-c35e-ca7508df440e"
      },
      "execution_count": null,
      "outputs": [
        {
          "output_type": "execute_result",
          "data": {
            "text/plain": [
              "'Canis lupus familiaris'"
            ],
            "application/vnd.google.colaboratory.intrinsic+json": {
              "type": "string"
            }
          },
          "metadata": {},
          "execution_count": 42
        }
      ]
    },
    {
      "cell_type": "code",
      "source": [
        "dog.make_sound()"
      ],
      "metadata": {
        "colab": {
          "base_uri": "https://localhost:8080/",
          "height": 35
        },
        "id": "roIoNkpaKqxC",
        "outputId": "f6a52b38-7563-4bc9-8aff-0dd87919152a"
      },
      "execution_count": null,
      "outputs": [
        {
          "output_type": "execute_result",
          "data": {
            "text/plain": [
              "'woof!'"
            ],
            "application/vnd.google.colaboratory.intrinsic+json": {
              "type": "string"
            }
          },
          "metadata": {},
          "execution_count": 44
        }
      ]
    },
    {
      "cell_type": "code",
      "source": [
        "#In this example, the Dog class inherits from the Animal class and can access its attributes and methods. The Dog class also overrides the make_sound method to provide its own implementation."
      ],
      "metadata": {
        "id": "aHoR_0AFKq0h"
      },
      "execution_count": null,
      "outputs": []
    }
  ]
}