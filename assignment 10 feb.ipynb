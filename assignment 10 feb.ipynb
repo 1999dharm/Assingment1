{
 "cells": [
  {
   "cell_type": "markdown",
   "id": "24a9ff9c",
   "metadata": {},
   "source": [
    "Q1. Which function is used to open a file? What are the different modes of opening a file? Explain each mode\n",
    "of file opening.\n",
    "\n",
    "Ans1\n",
    " In Python, the built-in open() function is used to open a file. The open() function takes two arguments: the name of the file to be opened, and the mode in which the file should be opened. The mode specifies how the file should be opened for reading or writing.\n",
    "\n",
    "There are several modes for opening a file in Python, each with a different purpose:\n",
    "\n",
    "'r' - Read mode: This is the default mode for opening a file in Python. It opens the file for reading only, and any attempt to write to the file will result in an error.\n",
    "\n",
    "'w' - Write mode: This mode opens the file for writing only, and any existing data in the file will be truncated. If the file does not exist, a new file will be created.\n",
    "\n",
    "'a' - Append mode: This mode opens the file for writing, but unlike the write mode, it appends the data to the end of the file instead of truncating the existing data. If the file does not exist, a new file will be created.\n",
    "\n",
    "'x' - Exclusive creation mode: This mode is similar to write mode, but it raises an error if the file already exists.\n",
    "\n",
    "'b' - Binary mode: This mode is used when working with binary files, such as images, audio or video files.\n",
    "\n",
    "'+' - Update mode: This mode opens the file for both reading and writing.\n",
    "\n",
    "You can use multiple modes at once, for example, to open a file in binary mode for reading and writing, you would use 'rb+'.\n",
    "\n",
    "\n",
    "\n"
   ]
  },
  {
   "cell_type": "markdown",
   "id": "1dd8e0c1",
   "metadata": {},
   "source": [
    "Q2. Why close() function is used? Why is it important to close a file\n",
    "\n",
    "AnsThe close() function is used to close a file in Python. It is important to close a file after you have finished working with it because it frees up system resources and ensures that any changes made to the file are properly saved.\n",
    "\n",
    "When you open a file, the operating system reserves a portion of memory to store the file's data, and this memory is not released until you close the file. If you have a large number of files open at the same time, it can lead to memory exhaustion, which can cause your program to crash.\n",
    "\n",
    "Closing a file also ensures that any changes you made to the file while it was open are saved and committed to disk. If you do not close a file, any changes you made to it may not be saved or may be lost if your program crashes or the system shuts down.\n",
    "\n",
    "It is generally a good practice to use the with statement when opening files in Python. This ensures that the file is properly closed even if an exception occurs while the file is open. For example:\n",
    "\n"
   ]
  },
  {
   "cell_type": "code",
   "execution_count": 10,
   "id": "5e61802a",
   "metadata": {},
   "outputs": [],
   "source": [
    "data = {\n",
    "    \"name\":\"amit\",\n",
    "    \"mail_id\": \"amit@gmail.com\",\n",
    "    \"phone_number\" : 9564644634\n",
    "}"
   ]
  },
  {
   "cell_type": "code",
   "execution_count": 13,
   "id": "00ce9d15",
   "metadata": {},
   "outputs": [],
   "source": [
    "import json"
   ]
  },
  {
   "cell_type": "code",
   "execution_count": 14,
   "id": "65a4fc0e",
   "metadata": {},
   "outputs": [],
   "source": [
    "with open(\"data.json\" , \"w\") as f:\n",
    "    json.dump(data,f)"
   ]
  },
  {
   "cell_type": "code",
   "execution_count": 16,
   "id": "baf707fe",
   "metadata": {},
   "outputs": [],
   "source": [
    "with open(\"data.json\", \"r\")as f:\n",
    "    data1 = json.load(f)"
   ]
  },
  {
   "cell_type": "code",
   "execution_count": 17,
   "id": "caddcaf5",
   "metadata": {},
   "outputs": [
    {
     "data": {
      "text/plain": [
       "{'name': 'amit', 'mail_id': 'amit@gmail.com', 'phone_number': 9564644634}"
      ]
     },
     "execution_count": 17,
     "metadata": {},
     "output_type": "execute_result"
    }
   ],
   "source": [
    "data1"
   ]
  },
  {
   "cell_type": "markdown",
   "id": "30e04dd0",
   "metadata": {},
   "source": [
    "In this example, the file is automatically closed when the with block is exited, even if an exception is raised."
   ]
  },
  {
   "cell_type": "markdown",
   "id": "8cdbeb7c",
   "metadata": {},
   "source": [
    "Q3. Write a python program to create a text file. Write ‘I want to become a Data Scientist’ in that file. Then\n",
    "close the file. Open this file and read the content of the file."
   ]
  },
  {
   "cell_type": "code",
   "execution_count": 18,
   "id": "e013ad65",
   "metadata": {},
   "outputs": [],
   "source": [
    "with open(\"file.txt\",\"w\")as f:\n",
    "    f.write(\"I want to become a data scientist\")"
   ]
  },
  {
   "cell_type": "code",
   "execution_count": 19,
   "id": "23dfb0c7",
   "metadata": {},
   "outputs": [],
   "source": [
    "with open(\"file.txt\", \"r\")as f:\n",
    "    contents = f.read()"
   ]
  },
  {
   "cell_type": "code",
   "execution_count": 20,
   "id": "734fcdc0",
   "metadata": {},
   "outputs": [
    {
     "data": {
      "text/plain": [
       "'I want to become a data scientist'"
      ]
     },
     "execution_count": 20,
     "metadata": {},
     "output_type": "execute_result"
    }
   ],
   "source": [
    "contents"
   ]
  },
  {
   "cell_type": "markdown",
   "id": "2d04fca5",
   "metadata": {},
   "source": [
    "Q4. Explain the following with python code: read(), readline() and readlines().\n",
    "\n",
    "Ans\n",
    "In Python, the read(), readline(), and readlines() methods are used to read data from a file. Here's a brief explanation of each method:\n",
    "\n",
    "1 read(): This method reads the entire contents of a file as a single string. For example:\n",
    "python\n",
    "\n"
   ]
  },
  {
   "cell_type": "code",
   "execution_count": 21,
   "id": "1b27f51f",
   "metadata": {},
   "outputs": [
    {
     "name": "stdout",
     "output_type": "stream",
     "text": [
      "I want to become a data scientist\n"
     ]
    }
   ],
   "source": [
    "with open(\"file.txt\", \"r\") as f:\n",
    "    contents = f.read()\n",
    "    print(contents)\n"
   ]
  },
  {
   "cell_type": "markdown",
   "id": "6de7744e",
   "metadata": {},
   "source": [
    "This code opens the file \"file.txt\" for reading, reads the entire contents of the file as a single string, and then prints the contents."
   ]
  },
  {
   "cell_type": "markdown",
   "id": "585892ca",
   "metadata": {},
   "source": [
    "2 readline(): This method reads a single line from a file. For example:\n"
   ]
  },
  {
   "cell_type": "code",
   "execution_count": 23,
   "id": "2ba808b8",
   "metadata": {},
   "outputs": [
    {
     "name": "stdout",
     "output_type": "stream",
     "text": [
      "I want to become a data scientist\n"
     ]
    }
   ],
   "source": [
    "with open(\"file.txt\", \"r\") as f:\n",
    "    line = f.readline()\n",
    "    while line:\n",
    "        print(line)\n",
    "        line = f.readline()\n"
   ]
  },
  {
   "cell_type": "markdown",
   "id": "10c767cb",
   "metadata": {},
   "source": [
    "This code opens the file \"file.txt\" for reading, reads a single line from the file, and then prints the line. The while loop continues to read and print lines from the file until there are no more lines to be read."
   ]
  },
  {
   "cell_type": "markdown",
   "id": "6533beab",
   "metadata": {},
   "source": [
    "3 readlines(): This method reads all the lines of a file and returns them as a list of strings. For example:"
   ]
  },
  {
   "cell_type": "code",
   "execution_count": 24,
   "id": "1abbe092",
   "metadata": {},
   "outputs": [
    {
     "name": "stdout",
     "output_type": "stream",
     "text": [
      "I want to become a data scientist\n"
     ]
    }
   ],
   "source": [
    "with open(\"file.txt\", \"r\") as f:\n",
    "    lines = f.readlines()\n",
    "    for line in lines:\n",
    "        print(line)\n"
   ]
  },
  {
   "cell_type": "markdown",
   "id": "65fa178f",
   "metadata": {},
   "source": [
    "This code opens the file \"file.txt\" for reading, reads all the lines of the file, and then prints each line. The readlines() method returns the lines of the file as a list of strings, and the for loop iterates over the list and prints each line.\n",
    "\n",
    "\n",
    "\n"
   ]
  },
  {
   "cell_type": "markdown",
   "id": "00448ea4",
   "metadata": {},
   "source": [
    "Q5. Explain why with statement is used with open(). What is the advantage of using with statement and\n",
    "open() together?\n",
    "\n",
    "Ans\n",
    "The with statement is often used with the open() function in Python because it provides a convenient and safe way to handle files. The advantage of using the with statement and open() together is that it ensures that the file is properly closed even if an exception occurs while the file is open.\n",
    "\n",
    "When you open a file, the operating system reserves a portion of memory to store the file's data, and this memory is not released until you close the file. If you do not close a file, you can run out of memory, which can cause your program to crash. In addition, any changes you make to the file while it is open may not be saved if the file is not properly closed.\n",
    "\n",
    "The with statement provides a convenient and safe way to handle files because it automatically closes the file when the with block is exited, even if an exception is raised. For example:"
   ]
  },
  {
   "cell_type": "code",
   "execution_count": 25,
   "id": "cd9ed8d5",
   "metadata": {},
   "outputs": [],
   "source": [
    "with open(\"file.txt\", \"r\") as f:\n",
    "    data = f.read()\n",
    "    \n"
   ]
  },
  {
   "cell_type": "code",
   "execution_count": 26,
   "id": "b3313c37",
   "metadata": {},
   "outputs": [
    {
     "data": {
      "text/plain": [
       "'I want to become a data scientist'"
      ]
     },
     "execution_count": 26,
     "metadata": {},
     "output_type": "execute_result"
    }
   ],
   "source": [
    "data"
   ]
  },
  {
   "cell_type": "markdown",
   "id": "250e9cae",
   "metadata": {},
   "source": [
    "In this example, the file is automatically closed when the with block is exited, even if an exception is raised. This helps to ensure that the file is properly closed and that any changes made to the file are saved.\n",
    "\n",
    "In summary, the advantage of using the with statement and open() together is that it provides a convenient and safe way to handle files by automatically closing the file when the with block is exited and ensuring that any changes made to the file are saved.\n",
    "\n",
    "\n",
    "\n"
   ]
  },
  {
   "cell_type": "markdown",
   "id": "c50ca8ba",
   "metadata": {},
   "source": [
    "Q6. Explain the write() and writelines() functions. Give a suitable example.\n",
    "\n",
    "Ans\n",
    "The write() and writelines() functions are used to write data to a file in Python.\n",
    "\n",
    "write(): This function writes a string to a file. The string can be a single string or a concatenation of multiple strings. For example:"
   ]
  },
  {
   "cell_type": "code",
   "execution_count": null,
   "id": "3338fbed",
   "metadata": {},
   "outputs": [],
   "source": [
    "with open(\"file.txt\", \"w\") as f:\n",
    "    f.write(\"Hello, world!\")\n"
   ]
  },
  {
   "cell_type": "markdown",
   "id": "897f1efb",
   "metadata": {},
   "source": [
    "This code opens the file \"file.txt\" for writing, writes the string \"Hello, world!\" to the file, and then closes the file."
   ]
  },
  {
   "cell_type": "markdown",
   "id": "d0599930",
   "metadata": {},
   "source": [
    "writelines(): This function writes a list of strings to a file. Each string in the list is written to a separate line in the file. For example:\n"
   ]
  },
  {
   "cell_type": "code",
   "execution_count": 30,
   "id": "20498c18",
   "metadata": {},
   "outputs": [],
   "source": [
    "with open(\"file.txt\", \"w\") as f:\n",
    "    lines = [\"Hello, world!\", \"How are you?\"]\n",
    "    f.writelines(lines)\n"
   ]
  },
  {
   "cell_type": "markdown",
   "id": "c020a2a8",
   "metadata": {},
   "source": [
    "This code opens the file \"file.txt\" for writing, writes the list of strings [\"Hello, world!\", \"How are you?\"] to the file, and then closes the file. The resulting file will have the following contents:"
   ]
  },
  {
   "cell_type": "code",
   "execution_count": 33,
   "id": "e3cf8ba0",
   "metadata": {},
   "outputs": [
    {
     "data": {
      "text/plain": [
       "['Hello, world!', 'How are you?']"
      ]
     },
     "execution_count": 33,
     "metadata": {},
     "output_type": "execute_result"
    }
   ],
   "source": [
    "lines"
   ]
  },
  {
   "cell_type": "code",
   "execution_count": null,
   "id": "c8596242",
   "metadata": {},
   "outputs": [],
   "source": []
  }
 ],
 "metadata": {
  "kernelspec": {
   "display_name": "Python 3 (ipykernel)",
   "language": "python",
   "name": "python3"
  },
  "language_info": {
   "codemirror_mode": {
    "name": "ipython",
    "version": 3
   },
   "file_extension": ".py",
   "mimetype": "text/x-python",
   "name": "python",
   "nbconvert_exporter": "python",
   "pygments_lexer": "ipython3",
   "version": "3.9.13"
  }
 },
 "nbformat": 4,
 "nbformat_minor": 5
}
