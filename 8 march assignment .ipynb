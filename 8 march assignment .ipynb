{
 "cells": [
  {
   "cell_type": "markdown",
   "id": "2d34cb2c-fa36-4682-8b92-6fdb32ae8c68",
   "metadata": {},
   "source": [
    "Q1. What is the Probability density function?\n",
    "\n",
    "Ans The probability density function (PDF) is a mathematical function that describes the probability distribution of a random variable. Specifically, the PDF of a continuous random variable is a function that describes the relative likelihood of observing different outcomes of that variable.\n",
    "\n",
    "The PDF is defined as the derivative of the cumulative distribution function (CDF) of the random variable. The CDF gives the probability that the random variable takes a value less than or equal to a given value. The PDF is used to calculate the probability of a range of values for the random variable by integrating over that range.\n",
    "\n",
    "The PDF must satisfy two conditions: it must be non-negative for all values of the random variable, and the area under the curve of the PDF over all possible values of the random variable must be equal to one.\n",
    "\n",
    "The PDF is an important concept in probability theory and statistics, as it allows us to analyze and model the behavior of continuous random variables."
   ]
  },
  {
   "cell_type": "markdown",
   "id": "e1574b53-d117-4cc6-8e75-aca5525abf12",
   "metadata": {},
   "source": [
    "Q2. What are the types of Probability distribution?\n",
    "\n",
    "Ans There are several types of probability distributions, which are used to describe the probability of different outcomes of a random variable. Here are some of the most common types of probability distributions:\n",
    "\n",
    "Normal distribution: The normal distribution, also known as the Gaussian distribution, is a continuous probability distribution that is symmetric around the mean. It is widely used in statistics and probability theory to model various natural phenomena.\n",
    "\n",
    "Binomial distribution: The binomial distribution is a discrete probability distribution that describes the probability of a certain number of successes in a fixed number of independent trials, where each trial has only two possible outcomes.\n",
    "\n",
    "Poisson distribution: The Poisson distribution is a discrete probability distribution that describes the probability of a certain number of events occurring in a fixed interval of time or space, where the events occur independently of each other and at a constant rate.\n",
    "\n",
    "Exponential distribution: The exponential distribution is a continuous probability distribution that describes the time between events in a Poisson process, where events occur randomly and independently of each other at a constant rate.\n",
    "\n",
    "Uniform distribution: The uniform distribution is a continuous probability distribution that describes the probability of a random variable taking a value within a certain range, where all values within the range are equally likely.\n",
    "\n",
    "Gamma distribution: The gamma distribution is a continuous probability distribution that is used to model the waiting time until a certain number of events occur in a Poisson process.\n",
    "\n",
    "Beta distribution: The beta distribution is a continuous probability distribution that is used to model probabilities between 0 and 1, and is often used in Bayesian statistics to model prior beliefs or hypotheses.\n",
    "\n",
    "These are just a few examples of the many types of probability distributions that exist. The choice of distribution depends on the nature of the data and the problem being studied.\n",
    "\n",
    "\n",
    "\n"
   ]
  },
  {
   "cell_type": "markdown",
   "id": "7073a04b-2100-49d5-a13b-4ea99f0e8ab3",
   "metadata": {},
   "source": [
    "Q3. Write a Python function to calculate the probability density function of a normal distribution with given mean and standard deviation at a given point.\n"
   ]
  },
  {
   "cell_type": "code",
   "execution_count": 5,
   "id": "abc5fbad-4310-49e0-a4bb-b30885ba8a36",
   "metadata": {},
   "outputs": [],
   "source": [
    "import math\n",
    "def normal_pdf(x,mean,std_dev):\n",
    "    exponent = -((x-mean)**2)/(2* std_dev **2)\n",
    "    coefficient = 1 / (std_dev * math.sqrt(2 * math.pi))\n",
    "    pdf = coefficient * math.exp(exponent)\n",
    "    return pdf\n",
    "\n"
   ]
  },
  {
   "cell_type": "code",
   "execution_count": 6,
   "id": "ecf698e6-0a8a-472f-8b42-9a637a32367c",
   "metadata": {},
   "outputs": [
    {
     "name": "stdout",
     "output_type": "stream",
     "text": [
      "0.24197072451914337\n"
     ]
    }
   ],
   "source": [
    "pdf = normal_pdf(1, 0, 1)\n",
    "print(pdf)\n"
   ]
  },
  {
   "cell_type": "markdown",
   "id": "00f1f9a6-1f2e-4923-af35-0d2a8a94114b",
   "metadata": {},
   "source": [
    "Q4. What are the properties of Binomial distribution? Give two examples of events where binomial\n",
    "distribution can be applied.\n",
    "\n",
    "Ans The binomial distribution has several important properties, including:\n",
    "\n",
    "The binomial distribution models the probability of a certain number of successes in a fixed number of independent trials, where each trial has only two possible outcomes (success or failure).\n",
    "The trials are assumed to be independent and identically distributed.\n",
    "The probability of success on each trial is constant and denoted by p.\n",
    "The probability of failure on each trial is denoted by q = 1 - p.\n",
    "The binomial distribution is a discrete probability distribution, which means that the random variable takes only integer values.\n",
    "The mean of the binomial distribution is np, where n is the number of trials and p is the probability of success on each trial.\n",
    "The variance of the binomial distribution is npq.\n",
    "Two examples of events where the binomial distribution can be applied are:\n",
    "\n",
    "Flipping a coin: Suppose you flip a fair coin 10 times and want to know the probability of getting exactly 5 heads. This is a binomial distribution with n = 10 and p = 0.5 (assuming the coin is fair).\n",
    "Manufacturing defects: A factory produces light bulbs and the probability of a bulb being defective is 0.02. If a sample of 100 bulbs is selected, the number of defective bulbs follows a binomial distribution with n = 100 and p = 0.02. We can use this distribution to calculate the probability of getting a certain number of defective bulbs in the sample"
   ]
  },
  {
   "cell_type": "markdown",
   "id": "f96d5915-cb89-48d0-823c-b8afd7381d87",
   "metadata": {},
   "source": [
    "Q5. Generate a random sample of size 1000 from a binomial distribution with probability of success 0.4\n",
    "and plot a histogram of the results using matplotlib.\n",
    "\n"
   ]
  },
  {
   "cell_type": "code",
   "execution_count": 14,
   "id": "4847420a-9332-4166-8253-5337d1027152",
   "metadata": {},
   "outputs": [
    {
     "data": {
      "image/png": "[encoded data removed]",
      "text/plain": [
       "<Figure size 640x480 with 1 Axes>"
      ]
     },
     "metadata": {},
     "output_type": "display_data"
    }
   ],
   "source": [
    "import numpy as np\n",
    "import matplotlib.pyplot as plt\n",
    "\n",
    "sample = np.random.binomial(n=1, p=0.4, size=1000)\n",
    "\n",
    "\n",
    "plt.hist(sample, bins=2, range=(-0.5, 1.5), align='mid', rwidth=0.8)\n",
    "plt.xticks([0, 1], ['Failure', 'Success'])\n",
    "plt.xlabel('Outcome')\n",
    "plt.ylabel('Frequency')\n",
    "plt.title('Binomial Distribution with p=0.4')\n",
    "plt.show()\n"
   ]
  },
  {
   "cell_type": "markdown",
   "id": "a5b8a040-6dde-4aa4-bddb-1977ea615a07",
   "metadata": {},
   "source": [
    "This code uses the numpy.random.binomial() function to generate a random sample of size 1000 from a binomial distribution with p=0.4. The resulting sample is then plotted as a histogram using matplotlib.pyplot.hist(). The histogram has two bins (for success and failure), and the x-axis labels are set to \"Success\" and \"Failure\" using matplotlib.pyplot.xticks(). The resulting plot should show a roughly bell-shaped distribution centered around 400 successes (since 0.4 * 1000 = 400).\n",
    "\n",
    "\n",
    "\n",
    "\n"
   ]
  },
  {
   "cell_type": "markdown",
   "id": "0db5689b-3cd4-4f4c-93e0-9f5caa850e15",
   "metadata": {},
   "source": [
    "Q6. Write a Python function to calculate the cumulative distribution function of a Poisson distribution with given mean at a given point."
   ]
  },
  {
   "cell_type": "code",
   "execution_count": 15,
   "id": "8ad95486-d65c-42cf-a177-89b2fa1ff7e1",
   "metadata": {},
   "outputs": [],
   "source": [
    "import math\n",
    "\n",
    "def poisson_cdf(x, mean):\n",
    "    cdf = 0\n",
    "    for i in range(x+1):\n",
    "        cdf += (mean**i) * math.exp(-mean) / math.factorial(i)\n",
    "    return cdf\n"
   ]
  },
  {
   "cell_type": "markdown",
   "id": "2c5a63ad-440d-41ce-af99-48c2d7ec1c48",
   "metadata": {},
   "source": [
    "To use this function, you simply need to call it with the desired values for x and mean. For example, to calculate the CDF of a Poisson distribution with mean 3 at x = 5, you would call the function as follows:"
   ]
  },
  {
   "cell_type": "code",
   "execution_count": 16,
   "id": "270dada9-c8d6-43be-8f75-3a2aa80d0dba",
   "metadata": {},
   "outputs": [
    {
     "name": "stdout",
     "output_type": "stream",
     "text": [
      "0.9160820579686966\n"
     ]
    }
   ],
   "source": [
    "cdf = poisson_cdf(5, 3)\n",
    "print(cdf)\n"
   ]
  },
  {
   "cell_type": "markdown",
   "id": "611050b8-9ea6-40e3-bece-7cddfbc438d3",
   "metadata": {},
   "source": [
    "This would output the probability that the Poisson distribution takes a value less than or equal to 5, given a mean of 3."
   ]
  },
  {
   "cell_type": "markdown",
   "id": "7c5c3f9e-834e-4ab4-bee9-dfa97aef5851",
   "metadata": {},
   "source": [
    "Q7. How Binomial distribution different from Poisson distribution?\n",
    "\n",
    "Ans Binomial distribution and Poisson distribution are both probability distributions that are commonly used to model discrete random variables. However, there are some key differences between these two distributions:\n",
    "\n",
    "Definition: The binomial distribution models the probability of a certain number of successes in a fixed number of independent trials, where each trial has only two possible outcomes (success or failure). The Poisson distribution models the probability of a certain number of events occurring in a fixed interval of time or space, where the events occur randomly and independently of each other.\n",
    "\n",
    "Number of trials: The binomial distribution requires a fixed number of independent trials, whereas the Poisson distribution does not.\n",
    "\n",
    "Probability of success: In the binomial distribution, the probability of success on each trial is constant and denoted by p. In the Poisson distribution, there is no concept of success or failure, only the average rate at which events occur.\n",
    "\n",
    "Mean and variance: The mean of the binomial distribution is np, where n is the number of trials and p is the probability of success on each trial. The variance of the binomial distribution is npq. In the Poisson distribution, the mean and variance are both equal to λ, which is the average rate at which events occur.\n",
    "\n",
    "Assumptions: The binomial distribution assumes that the trials are independent and identically distributed, and that the probability of success on each trial is constant. The Poisson distribution assumes that the events occur randomly and independently of each other, and that the average rate at which events occur is constant.\n",
    "\n",
    "Examples of events that can be modeled by the binomial distribution include flipping a coin, rolling a die, and counting the number of defective items in a sample. Examples of events that can be modeled by the Poisson distribution include the number of customers arriving at a store per hour, the number of accidents on a highway per day, and the number of bacteria colonies in a petri dish."
   ]
  },
  {
   "cell_type": "markdown",
   "id": "42f116e7-ec40-4160-ad31-aa5ce72c41fa",
   "metadata": {},
   "source": [
    "Q8. Generate a random sample of size 1000 from a Poisson distribution with mean 5 and calculate the\n",
    "sample mean and variance."
   ]
  },
  {
   "cell_type": "code",
   "execution_count": 17,
   "id": "0a72d62b-058a-455e-8034-33acbf83d55d",
   "metadata": {},
   "outputs": [
    {
     "name": "stdout",
     "output_type": "stream",
     "text": [
      "Sample mean: 0.407\n",
      "Sample variance: 0.24135100000000007\n"
     ]
    }
   ],
   "source": [
    "sample_mean = np.mean(sample)\n",
    "sample_var = np.var(sample)\n",
    "\n",
    "print(\"Sample mean:\", sample_mean)\n",
    "print(\"Sample variance:\", sample_var)\n"
   ]
  },
  {
   "cell_type": "markdown",
   "id": "fab4d2a3-a4fc-4e8d-98a6-04f1df2ad7ea",
   "metadata": {},
   "source": [
    "This code uses the numpy.random.poisson() function to generate a random sample of size 1000 from a Poisson distribution with mean 5. The sample mean and variance are then calculated using numpy.mean() and numpy.var() functions, respectively. The resulting values may vary slightly due to the random nature of the sampling, but they should be close to the expected values of mean=5 and variance=5, as these are the theoretical values for the Poisson distribution with mean 5."
   ]
  },
  {
   "cell_type": "markdown",
   "id": "24983dc5-fd2e-4257-80a1-86d9bcae5d4e",
   "metadata": {},
   "source": [
    "Q9. How mean and variance are related in Binomial distribution and Poisson distribution?\n",
    "\n",
    "mean = np\n",
    "variance = npq\n",
    "\n",
    "where n is the number of trials, p is the probability of success on each trial, and q = 1 - p is the probability of failure on each trial. The mean of the binomial distribution represents the expected number of successes in n trials, and the variance represents the spread or variability of the number of successes around the mean.\n",
    "\n",
    "In the Poisson distribution, the mean and variance are both equal to λ, which is the average rate at which events occur. That is:\n",
    "\n",
    "mean = λ\n",
    "variance = λ\n",
    "\n",
    "The mean of the Poisson distribution represents the expected number of events in a fixed interval of time or space, and the variance represents the spread or variability of the number of events around the mean.\n",
    "\n",
    "In both the binomial and Poisson distributions, the variance is a measure of the dispersion or spread of the distribution around its mean. If the variance is large, the distribution is more spread out and less tightly clustered around the mean, while if the variance is small, the distribution is more tightly clustered around the mean."
   ]
  },
  {
   "cell_type": "markdown",
   "id": "faf6dccf-6036-407d-b385-968d2e6c2490",
   "metadata": {},
   "source": [
    "Q10. In normal distribution with respect to mean position, where does the least frequent data appear?"
   ]
  },
  {
   "cell_type": "code",
   "execution_count": null,
   "id": "7e90676e-eee4-4477-89f7-5732b843a30e",
   "metadata": {},
   "outputs": [],
   "source": []
  }
 ],
 "metadata": {
  "kernelspec": {
   "display_name": "Python 3 (ipykernel)",
   "language": "python",
   "name": "python3"
  },
  "language_info": {
   "codemirror_mode": {
    "name": "ipython",
    "version": 3
   },
   "file_extension": ".py",
   "mimetype": "text/x-python",
   "name": "python",
   "nbconvert_exporter": "python",
   "pygments_lexer": "ipython3",
   "version": "3.10.6"
  }
 },
 "nbformat": 4,
 "nbformat_minor": 5
}
