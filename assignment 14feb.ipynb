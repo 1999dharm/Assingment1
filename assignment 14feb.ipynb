{
 "cells": [
  {
   "cell_type": "markdown",
   "id": "c6a1e433-cdce-4947-9942-df2fd70a5204",
   "metadata": {},
   "source": [
    "Q1. what is multithreading in python? hy is it used? Name the module used to handle threads in python\n",
    "\n",
    "Ans ultithreading in Python is a technique that allows multiple threads of execution to run concurrently within a single process. A thread is a lightweight sub-process that shares memory with other threads and can be scheduled by the operating system to execute on a processor core.\n",
    "\n",
    "Multithreading is used in Python to achieve concurrency, which can help improve the performance of certain types of programs, especially those that involve input/output (I/O) operations, by allowing other tasks to be executed while waiting for I/O to complete.\n",
    "\n",
    "The threading module is used to handle threads in Python. This module provides a simple way to create and manage threads, as well as synchronizing access to shared data between threads. It is part of the Python standard library, so it is included with all installations of Python.\n",
    "\n"
   ]
  },
  {
   "cell_type": "markdown",
   "id": "a29284d4-ab70-4046-89a5-0d63d8eb23c4",
   "metadata": {},
   "source": [
    "Q2. why threading module used? rite the use of the following functions:\n",
    "1 activeCount() \n",
    "2 currentThread()\n",
    "3 enumerate()\n",
    "\n",
    "Ans The threading module in Python is used to create and manage threads in a program. It allows for multiple threads of execution to run concurrently within a single process. Here are some use cases for three functions provided by the threading module:\n",
    "\n",
    "active_count(): This function is used to get the number of currently active threads in the program. It returns an integer value representing the number of threads currently running, including the main thread.\n",
    "\n",
    "current_thread(): This function is used to get a reference to the current thread object. It returns the thread object that represents the thread from which the function is called.\n",
    "\n",
    "enumerate(): This function is used to get a list of all the active thread objects in the program. It returns a list of thread objects, including the main thread, that are currently running or blocked waiting to run.\n",
    "\n",
    "These functions can be used to help manage and monitor the threads in a Python program. For example, active_count() can be used to ensure that the number of running threads is within a certain limit, while current_thread() can be used to check the identity of the current thread and perform operations based on that. enumerate() can be used to get information about all the active threads in a program, such as their names or status, and to help identify any issues related to thread synchronization or blocking.\n",
    "\n",
    "\n",
    "\n",
    "\n"
   ]
  },
  {
   "cell_type": "markdown",
   "id": "7f693dbb-cb3e-49e0-8fb1-18f2edf81531",
   "metadata": {},
   "source": [
    "3. Explain the following functions\n",
    "1 run()\n",
    "2 start()\n",
    "3 join()\n",
    "4 isAlive()\n",
    "\n",
    "Ans These are functions related to managing threads using the threading module in Python:\n",
    "\n",
    "run(): This method is called by a Thread object to run the target function of the thread. You typically do not call this method directly, but rather call the start() method, which starts the thread and automatically calls run() in a separate thread of execution.\n",
    "\n",
    "start(): This method is called on a Thread object to start the thread. It creates a new thread of execution for the thread and calls the run() method in the new thread. The method returns immediately, allowing the main thread to continue execution while the new thread runs.\n",
    "\n",
    "join(): This method is called on a Thread object to wait for the thread to complete its execution. The calling thread blocks until the target thread has finished running. This method can be used to ensure that the results of a thread's work are available before continuing with the main thread's work.\n",
    "\n",
    "isAlive(): This method is called on a Thread object to check whether the thread is currently running. It returns True if the thread is still executing its target function, and False otherwise.\n",
    "\n",
    "These functions are important for managing and synchronizing the execution of threads in a Python program. run() and start() are used to start a new thread of execution, while join() is used to wait for a thread to finish before continuing with the main thread's work. isAlive() can be used to check whether a thread is still running and to determine whether it is safe to access the results of the thread's work."
   ]
  },
  {
   "cell_type": "markdown",
   "id": "e3a8e1cb-e14a-461f-ae7d-786dd19f4f90",
   "metadata": {},
   "source": [
    "Q4. rite a python program to create two threads. Thread one must print the list of squares and thread\n",
    "two must print the list of cubes\n"
   ]
  },
  {
   "cell_type": "code",
   "execution_count": 2,
   "id": "8deacf03-5cac-4a30-99e4-b071db16256a",
   "metadata": {},
   "outputs": [
    {
     "name": "stdout",
     "output_type": "stream",
     "text": [
      "1\n",
      "4\n",
      "9\n",
      "16\n",
      "25\n",
      "36\n",
      "49\n",
      "64\n",
      "81\n",
      "100\n",
      "1\n",
      "8\n",
      "27\n",
      "64\n",
      "125\n",
      "216\n",
      "343\n",
      "512\n",
      "729\n",
      "1000\n"
     ]
    }
   ],
   "source": [
    "import threading\n",
    "\n",
    "def print_squares(n):\n",
    "    for i in range(1, n+1):\n",
    "        print(i*i)\n",
    "\n",
    "def print_cubes(n):\n",
    "    for i in range(1, n+1):\n",
    "        print(i*i*i)\n",
    "\n",
    "\n",
    "t1 = threading.Thread(target=print_squares, args=(10,))\n",
    "t2 = threading.Thread(target=print_cubes, args=(10,))\n",
    "t1.start()\n",
    "t2.start()\n",
    "t1.join()\n",
    "t2.join()\n",
    "\n",
    "\n"
   ]
  },
  {
   "cell_type": "markdown",
   "id": "8e113b5a-412b-4a04-b456-fad33778c184",
   "metadata": {},
   "source": [
    "Q5. State advantages and disadvantages of multithreading\n",
    "\n",
    "Ans Multithreading is a programming technique that allows multiple threads to execute concurrently within a single process. There are several advantages and disadvantages to using multithreading in a program:\n",
    "\n",
    "Advantages of multithreading:\n",
    "\n",
    "Increased performance: Multithreading can improve the performance of a program by allowing multiple threads to execute simultaneously, thereby utilizing the available CPU resources more efficiently.\n",
    "\n",
    "Improved responsiveness: Multithreading can make a program more responsive by allowing it to continue running other tasks while waiting for slow I/O operations or blocking system calls to complete.\n",
    "\n",
    "Simplified design: Multithreading can simplify the design of a program by allowing it to be broken down into smaller, more manageable units of code that can be executed concurrently.\n",
    "\n",
    "Shared resources: Multithreading allows multiple threads to access and share the same resources, such as memory and I/O devices, which can reduce the overhead of creating separate resources for each thread.\n",
    "\n",
    "Disadvantages of multithreading:\n",
    "\n",
    "Increased complexity: Multithreaded programs are generally more complex than single-threaded programs, due to issues such as race conditions, deadlocks, and synchronization.\n",
    "\n",
    "Difficult to debug: Multithreaded programs can be difficult to debug, as the behavior of the program can depend on the timing and order of thread execution, which can be hard to reproduce or predict.\n",
    "\n",
    "Resource contention: Multithreading can lead to resource contention, where multiple threads try to access or modify the same resource simultaneously, resulting in errors or incorrect results.\n",
    "\n",
    "Overhead: Multithreading adds overhead to a program, as each thread requires its own stack and thread context, which can consume additional memory and CPU resources.\n",
    "\n",
    "In summary, multithreading can offer several benefits to a program, such as increased performance and responsiveness, simplified design, and shared resources. However, it can also introduce complexity, debugging difficulties, resource contention, and overhead, which must be carefully managed to avoid issues in a multithreaded program."
   ]
  },
  {
   "cell_type": "markdown",
   "id": "b3479252-3f06-4973-8c98-c398065b4aff",
   "metadata": {},
   "source": [
    "\n",
    "Ans "
   ]
  },
  {
   "cell_type": "code",
   "execution_count": null,
   "id": "2bd16df8-1039-49f7-a342-c849a2279e72",
   "metadata": {},
   "outputs": [],
   "source": []
  },
  {
   "cell_type": "markdown",
   "id": "7af213f6-42da-41a7-b946-1a3af853b0a7",
   "metadata": {},
   "source": []
  },
  {
   "cell_type": "code",
   "execution_count": null,
   "id": "31c8f8ff-c3fc-4fce-aefb-8f05f0fbc4b2",
   "metadata": {},
   "outputs": [],
   "source": []
  },
  {
   "cell_type": "code",
   "execution_count": null,
   "id": "c41337f3-00d6-4692-b164-4453ddd65c78",
   "metadata": {},
   "outputs": [],
   "source": []
  }
 ],
 "metadata": {
  "kernelspec": {
   "display_name": "Python 3 (ipykernel)",
   "language": "python",
   "name": "python3"
  },
  "language_info": {
   "codemirror_mode": {
    "name": "ipython",
    "version": 3
   },
   "file_extension": ".py",
   "mimetype": "text/x-python",
   "name": "python",
   "nbconvert_exporter": "python",
   "pygments_lexer": "ipython3",
   "version": "3.10.6"
  }
 },
 "nbformat": 4,
 "nbformat_minor": 5
}
